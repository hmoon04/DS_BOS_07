{
 "cells": [
  {
   "cell_type": "markdown",
   "metadata": {},
   "source": [
    "# Time Series Analysis"
   ]
  },
  {
   "cell_type": "markdown",
   "metadata": {},
   "source": [
    "## Introduction to the Python `datetime` tools\n",
    "The [`datetime`](https://docs.python.org/2/library/datetime.html) module in Python stores date and time to the microsecond.  Here's an example taking a look at the current time with [`datetime.now()`](https://docs.python.org/2/library/datetime.html#datetime.datetime.now):"
   ]
  },
  {
   "cell_type": "code",
   "execution_count": 89,
   "metadata": {
    "collapsed": false
   },
   "outputs": [
    {
     "data": {
      "text/plain": [
       "datetime.datetime(2016, 1, 8, 19, 2, 55, 628597)"
      ]
     },
     "execution_count": 89,
     "metadata": {},
     "output_type": "execute_result"
    }
   ],
   "source": [
    "# Import the module datetime\n",
    "from datetime import datetime\n",
    "# Create a datetime called now with the current date/time\n",
    "now = datetime.now()\n",
    "# Print it out\n",
    "now"
   ]
  },
  {
   "cell_type": "code",
   "execution_count": 90,
   "metadata": {
    "collapsed": false
   },
   "outputs": [
    {
     "name": "stdout",
     "output_type": "stream",
     "text": [
      "Year: 2016\n",
      "Month: 1\n",
      "Day: 8\n"
     ]
    }
   ],
   "source": [
    "# Printing the year, month, day\n",
    "print 'Year: {0}\\nMonth: {1}\\nDay: {2}'.format(now.year, now.month, now.day)"
   ]
  },
  {
   "cell_type": "markdown",
   "metadata": {},
   "source": [
    "You can also easily work with differences in datetimes with the [`timedelta`](https://docs.python.org/2/library/datetime.html#datetime.timedelta) object:"
   ]
  },
  {
   "cell_type": "code",
   "execution_count": 91,
   "metadata": {
    "collapsed": false
   },
   "outputs": [
    {
     "data": {
      "text/plain": [
       "datetime.timedelta(364, 56700)"
      ]
     },
     "execution_count": 91,
     "metadata": {},
     "output_type": "execute_result"
    }
   ],
   "source": [
    "from datetime import timedelta\n",
    "# Calculating the difference between 2 datetimes\n",
    "delta = datetime(2016, 1, 8) - datetime(2015, 1, 8, 8, 15)\n",
    "delta"
   ]
  },
  {
   "cell_type": "code",
   "execution_count": 92,
   "metadata": {
    "collapsed": false
   },
   "outputs": [
    {
     "name": "stdout",
     "output_type": "stream",
     "text": [
      "364 Days, 56700 Seconds\n"
     ]
    }
   ],
   "source": [
    "# Printing the time period days and seconds\n",
    "print '{0} Days, {1} Seconds'.format(delta.days, delta.seconds)"
   ]
  },
  {
   "cell_type": "code",
   "execution_count": 93,
   "metadata": {
    "collapsed": false
   },
   "outputs": [
    {
     "data": {
      "text/plain": [
       "datetime.datetime(2000, 1, 13, 0, 0)"
      ]
     },
     "execution_count": 93,
     "metadata": {},
     "output_type": "execute_result"
    }
   ],
   "source": [
    "# Adding 12 days to a datetime with timedelta\n",
    "start = datetime(2000, 1, 1)\n",
    "start + timedelta(days=12)"
   ]
  },
  {
   "cell_type": "code",
   "execution_count": 7,
   "metadata": {
    "collapsed": false
   },
   "outputs": [
    {
     "data": {
      "text/plain": [
       "datetime.datetime(1999, 12, 8, 0, 0)"
      ]
     },
     "execution_count": 7,
     "metadata": {},
     "output_type": "execute_result"
    }
   ],
   "source": [
    "# Subtracting 24 days from a datetime\n",
    "start - 2 * timedelta(12)"
   ]
  },
  {
   "cell_type": "markdown",
   "metadata": {},
   "source": [
    "### Formatting `datetimes` as Strings\n",
    "You can print out datetimes in basically whatever human-readable format you like with handy methods like the following:"
   ]
  },
  {
   "cell_type": "code",
   "execution_count": 94,
   "metadata": {
    "collapsed": false
   },
   "outputs": [
    {
     "data": {
      "text/plain": [
       "'2016-01-08 19:08:05.400685'"
      ]
     },
     "execution_count": 94,
     "metadata": {},
     "output_type": "execute_result"
    }
   ],
   "source": [
    "# Print out with default format\n",
    "stamp = datetime.now()\n",
    "str(stamp)"
   ]
  },
  {
   "cell_type": "code",
   "execution_count": 95,
   "metadata": {
    "collapsed": false
   },
   "outputs": [
    {
     "data": {
      "text/plain": [
       "'01/08/2016 at 19:08:05'"
      ]
     },
     "execution_count": 95,
     "metadata": {},
     "output_type": "execute_result"
    }
   ],
   "source": [
    "# Print out with custom format\n",
    "stamp.strftime('%m/%d/%Y at %H:%M:%S')"
   ]
  },
  {
   "cell_type": "markdown",
   "metadata": {},
   "source": [
    "### Parsing Strings into `datetimes`\n",
    "You can convert string representations into `datetime` objects in a couple ways.  The simplest if you know the parsing format is to use `datetime.strptime()` like so:"
   ]
  },
  {
   "cell_type": "code",
   "execution_count": 96,
   "metadata": {
    "collapsed": false
   },
   "outputs": [
    {
     "data": {
      "text/plain": [
       "datetime.datetime(2000, 1, 1, 0, 0)"
      ]
     },
     "execution_count": 96,
     "metadata": {},
     "output_type": "execute_result"
    }
   ],
   "source": [
    "# Specify a date in a known format\n",
    "value = '2000-01-01'\n",
    "# Call the date parsing function with the date string and corresponding known format\n",
    "datetime.strptime(value, '%Y-%m-%d')"
   ]
  },
  {
   "cell_type": "markdown",
   "metadata": {},
   "source": [
    "For more complex parsing, you can try the `parser.parse()` in the [`dateutil`](https://pypi.python.org/pypi/python-dateutil) package.  It will try to smartly parse arbitrary date strings for you:"
   ]
  },
  {
   "cell_type": "code",
   "execution_count": 99,
   "metadata": {
    "collapsed": false
   },
   "outputs": [
    {
     "name": "stdout",
     "output_type": "stream",
     "text": [
      "2000-01-01 00:00:00\n",
      "2015-08-08 18:45:00\n",
      "2000-12-06 00:00:00\n"
     ]
    }
   ],
   "source": [
    "# Import the parser\n",
    "from dateutil.parser import parse\n",
    "# Parse various dates\n",
    "print parse('2000-01-01')\n",
    "print parse('Aug 8 2015 6:45 PM')\n",
    "print parse('6/12/2000', dayfirst = True)"
   ]
  },
  {
   "cell_type": "markdown",
   "metadata": {},
   "source": [
    "## Integrating `datetime` tools with Pandas for Time Series\n",
    "#### The `DatetimeIndex`\n",
    "Pandas has a lot of great convenience methods for working with datetime data.  When we're dealing with time series data in Pandas, we generally are talking about data where each observation is indexed by a `datetime` (rather than the row index or column name index that we've mostly been using so far).  For this Pandas combines a nice [`DatetimeIndex`](http://pandas.pydata.org/pandas-docs/version/0.17.1/generated/pandas.DatetimeIndex.html) object.\n",
    "\n",
    "Here's an example of how we might instantiate such an object, by giving Pandas a list of dates as strings for the `to_datetime()` function:"
   ]
  },
  {
   "cell_type": "code",
   "execution_count": 100,
   "metadata": {
    "collapsed": false
   },
   "outputs": [
    {
     "data": {
      "text/plain": [
       "DatetimeIndex(['2000-01-01', '2000-02-01', '2000-03-01', '2000-04-01',\n",
       "               '2000-05-01', '2000-06-01', '2000-07-01', '2000-08-01',\n",
       "               '2000-09-01', '2000-10-01', '2000-11-01', '2000-12-01'],\n",
       "              dtype='datetime64[ns]', freq=None)"
      ]
     },
     "execution_count": 100,
     "metadata": {},
     "output_type": "execute_result"
    }
   ],
   "source": [
    "# Import pandas\n",
    "import pandas as pd\n",
    "# Create list of date strings\n",
    "list_of_dates = ['1/1/2000', '2/1/2000', '3/1/2000', '4/1/2000', '5/1/2000', '6/1/2000', '7/1/2000', '8/1/2000', '9/1/2000', '10/1/2000', '11/1/2000', '12/1/2000']\n",
    "# Give the dates to Pandas and watch it create a a time-based index\n",
    "pd.to_datetime(list_of_dates)"
   ]
  },
  {
   "cell_type": "markdown",
   "metadata": {},
   "source": [
    "Let's see what happens if we have a null (`None`) value in our list of dates:"
   ]
  },
  {
   "cell_type": "code",
   "execution_count": 103,
   "metadata": {
    "collapsed": false
   },
   "outputs": [
    {
     "data": {
      "text/plain": [
       "DatetimeIndex(['2000-01-01', '2000-02-01', 'NaT'], dtype='datetime64[ns]', freq=None)"
      ]
     },
     "execution_count": 103,
     "metadata": {},
     "output_type": "execute_result"
    }
   ],
   "source": [
    "# Give Pandas a list of dates with a null value\n",
    "idx = pd.to_datetime(['1/1/2000', '2/1/2000'] + [None])\n",
    "idx"
   ]
  },
  {
   "cell_type": "markdown",
   "metadata": {},
   "source": [
    "You'll notice that the index now contains an `NaT` entry for **\"Not a Time\"** as opposed to `NaN`.  The `pd.isnull()` function is still applicable with this type:"
   ]
  },
  {
   "cell_type": "code",
   "execution_count": 102,
   "metadata": {
    "collapsed": false
   },
   "outputs": [
    {
     "data": {
      "text/plain": [
       "array([False, False,  True], dtype=bool)"
      ]
     },
     "execution_count": 102,
     "metadata": {},
     "output_type": "execute_result"
    }
   ],
   "source": [
    "# Check for null index values\n",
    "pd.isnull(idx)"
   ]
  },
  {
   "cell_type": "markdown",
   "metadata": {},
   "source": [
    "### Working with Pandas Series Indexed by Datetime\n",
    "Here's where we start to see some of the benefits of Pandas, by indexing our `Series` objects (thus the row indices) by `DatetimeIndex` as is natural for time series data.\n",
    "\n",
    "Let's create a series of 12 random datapoints, 1 for each month of the year, and index it by datetimes:"
   ]
  },
  {
   "cell_type": "code",
   "execution_count": 104,
   "metadata": {
    "collapsed": false
   },
   "outputs": [
    {
     "data": {
      "text/plain": [
       "2000-01-01   -0.581733\n",
       "2000-02-01   -0.418921\n",
       "2000-03-01   -1.053308\n",
       "2000-04-01    0.698387\n",
       "2000-05-01   -0.300843\n",
       "2000-06-01   -1.255741\n",
       "2000-07-01   -2.088959\n",
       "2000-08-01    1.323925\n",
       "2000-09-01    0.393314\n",
       "2000-10-01    0.822429\n",
       "2000-11-01   -0.595627\n",
       "2000-12-01    0.692482\n",
       "dtype: float64"
      ]
     },
     "execution_count": 104,
     "metadata": {},
     "output_type": "execute_result"
    }
   ],
   "source": [
    "# Import numpy for random datapoints\n",
    "import numpy as np\n",
    "# Create a list of dates to use (12 months for our 12 datapoints)\n",
    "list_of_dates = ['1/1/2000', '2/1/2000', '3/1/2000', '4/1/2000', '5/1/2000',\\\n",
    "                 '6/1/2000', '7/1/2000', '8/1/2000', '9/1/2000', '10/1/2000', '11/1/2000', '12/1/2000']\n",
    "# Convert dates to DatetimeIndex with Pandas\n",
    "dates = pd.to_datetime(list_of_dates)\n",
    "# Create a Series of 12 random numbers indexed by those dates\n",
    "time_series = pd.Series(np.random.randn(12), index=dates)\n",
    "time_series"
   ]
  },
  {
   "cell_type": "markdown",
   "metadata": {},
   "source": [
    "Notice that the type of our `time_series` is `Series` and its index is the desired `DatetimeIndex`:"
   ]
  },
  {
   "cell_type": "code",
   "execution_count": 105,
   "metadata": {
    "collapsed": false
   },
   "outputs": [
    {
     "name": "stdout",
     "output_type": "stream",
     "text": [
      "<class 'pandas.core.series.Series'>\n"
     ]
    },
    {
     "data": {
      "text/plain": [
       "DatetimeIndex(['2000-01-01', '2000-02-01', '2000-03-01', '2000-04-01',\n",
       "               '2000-05-01', '2000-06-01', '2000-07-01', '2000-08-01',\n",
       "               '2000-09-01', '2000-10-01', '2000-11-01', '2000-12-01'],\n",
       "              dtype='datetime64[ns]', freq=None)"
      ]
     },
     "execution_count": 105,
     "metadata": {},
     "output_type": "execute_result"
    }
   ],
   "source": [
    "print type(time_series)\n",
    "time_series.index"
   ]
  },
  {
   "cell_type": "markdown",
   "metadata": {},
   "source": [
    "##### All of the same index slicing works:"
   ]
  },
  {
   "cell_type": "code",
   "execution_count": 106,
   "metadata": {
    "collapsed": false
   },
   "outputs": [
    {
     "data": {
      "text/plain": [
       "2000-01-01   -0.581733\n",
       "2000-03-01   -1.053308\n",
       "2000-05-01   -0.300843\n",
       "2000-07-01   -2.088959\n",
       "dtype: float64"
      ]
     },
     "execution_count": 106,
     "metadata": {},
     "output_type": "execute_result"
    }
   ],
   "source": [
    "# Take the first 8 rows every other row\n",
    "time_series[0:8:2]"
   ]
  },
  {
   "cell_type": "code",
   "execution_count": 107,
   "metadata": {
    "collapsed": false
   },
   "outputs": [
    {
     "data": {
      "text/plain": [
       "2000-01-01   -0.581733\n",
       "2000-04-01    0.698387\n",
       "2000-07-01   -2.088959\n",
       "2000-10-01    0.822429\n",
       "dtype: float64"
      ]
     },
     "execution_count": 107,
     "metadata": {},
     "output_type": "execute_result"
    }
   ],
   "source": [
    "# Take every 3rd row\n",
    "time_series[::3]"
   ]
  },
  {
   "cell_type": "markdown",
   "metadata": {},
   "source": [
    "##### When arithmetic operations are performed between differently-indexed time series Pandas will automatically align on dates:"
   ]
  },
  {
   "cell_type": "code",
   "execution_count": 108,
   "metadata": {
    "collapsed": false
   },
   "outputs": [
    {
     "data": {
      "text/plain": [
       "2000-01-01   -1.163466\n",
       "2000-02-01         NaN\n",
       "2000-03-01         NaN\n",
       "2000-04-01    1.396774\n",
       "2000-05-01         NaN\n",
       "2000-06-01         NaN\n",
       "2000-07-01   -4.177919\n",
       "2000-08-01         NaN\n",
       "2000-09-01         NaN\n",
       "2000-10-01    1.644858\n",
       "2000-11-01         NaN\n",
       "2000-12-01         NaN\n",
       "dtype: float64"
      ]
     },
     "execution_count": 108,
     "metadata": {},
     "output_type": "execute_result"
    }
   ],
   "source": [
    "# Only every 3rd row will be non-null, as the 2nd series only has entries for that\n",
    "time_series + time_series[::3]"
   ]
  },
  {
   "cell_type": "markdown",
   "metadata": {},
   "source": [
    "##### Pandas stores timestamps using Numpy's datetime64 data type, which has nanoseond resolution!\n",
    "\n",
    "Let's try to generate a Time Series of 1000 days with 1000 random datapoints starting with 1/1/2000 using the [`pd.date_range()`](http://pandas.pydata.org/pandas-docs/version/0.17.1/generated/pandas.date_range.html) function."
   ]
  },
  {
   "cell_type": "code",
   "execution_count": 109,
   "metadata": {
    "collapsed": false
   },
   "outputs": [
    {
     "data": {
      "text/plain": [
       "2000-01-01   -0.892706\n",
       "2000-01-02   -0.954934\n",
       "2000-01-03    1.001793\n",
       "2000-01-04    0.593653\n",
       "2000-01-05   -0.100989\n",
       "Freq: D, dtype: float64"
      ]
     },
     "execution_count": 109,
     "metadata": {},
     "output_type": "execute_result"
    }
   ],
   "source": [
    "# 1000 random datapoints over 1000 index days\n",
    "long_time_series = pd.Series(np.random.randn(1000), index=pd.date_range('1/1/2000', periods=1000))\n",
    "long_time_series.head()"
   ]
  },
  {
   "cell_type": "markdown",
   "metadata": {},
   "source": [
    "Notice that when you print the series, it displays \"Freq: D\".  This is because the default frequency for the `date_range()` function is daily.  You can specify ***all sorts of frequency specifiers*** to generate a time series via the `freq` parameter when you call `date_range()`!\n",
    "\n",
    "Take a look at all of these different [frequency specifiers](http://pandas.pydata.org/pandas-docs/stable/timeseries.html#offset-aliases)!\n",
    "- B:\tbusiness day frequency\n",
    "- C:\tcustom business day frequency (experimental)\n",
    "- D:\tcalendar day frequency\n",
    "- W:\tweekly frequency\n",
    "- M:\tmonth end frequency\n",
    "- BM:\tbusiness month end frequency\n",
    "- CBM:\tcustom business month end frequency\n",
    "- MS:\tmonth start frequency\n",
    "- BMS:\tbusiness month start frequency\n",
    "- CBMS:\tcustom business month start frequency\n",
    "- Q:\tquarter end frequency\n",
    "- BQ:\tbusiness quarter endfrequency\n",
    "- QS:\tquarter start frequency\n",
    "- BQS:\tbusiness quarter start frequency\n",
    "- A:\tyear end frequency\n",
    "- BA:\tbusiness year end frequency\n",
    "- AS:\tyear start frequency\n",
    "- BAS:\tbusiness year start frequency\n",
    "- BH:\tbusiness hour frequency\n",
    "- H:\thourly frequency\n",
    "- T, min:\tminutely frequency\n",
    "- S:\tsecondly frequency\n",
    "- L, ms:\tmilliseonds\n",
    "- U, us:\tmicroseconds\n",
    "- N:\tnanoseconds\n",
    "\n",
    "You can take these base frequencies ***even further*** as we'll see examples of later!"
   ]
  },
  {
   "cell_type": "markdown",
   "metadata": {},
   "source": [
    "#### Selecting Data - use a date or a date string"
   ]
  },
  {
   "cell_type": "code",
   "execution_count": 110,
   "metadata": {
    "collapsed": false
   },
   "outputs": [
    {
     "data": {
      "text/plain": [
       "-1.4092724448750962"
      ]
     },
     "execution_count": 110,
     "metadata": {},
     "output_type": "execute_result"
    }
   ],
   "source": [
    "long_time_series['2002-02-01']"
   ]
  },
  {
   "cell_type": "code",
   "execution_count": 111,
   "metadata": {
    "collapsed": false
   },
   "outputs": [
    {
     "data": {
      "text/plain": [
       "-1.4092724448750962"
      ]
     },
     "execution_count": 111,
     "metadata": {},
     "output_type": "execute_result"
    }
   ],
   "source": [
    "long_time_series['20020201']"
   ]
  },
  {
   "cell_type": "code",
   "execution_count": 112,
   "metadata": {
    "collapsed": false
   },
   "outputs": [
    {
     "data": {
      "text/plain": [
       "2002-05-01   -1.559772\n",
       "2002-05-02   -0.656209\n",
       "2002-05-03    1.166041\n",
       "2002-05-04   -1.671163\n",
       "2002-05-05    1.362830\n",
       "2002-05-06    0.268210\n",
       "2002-05-07    0.183259\n",
       "2002-05-08   -0.239481\n",
       "2002-05-09    0.867243\n",
       "2002-05-10    0.532825\n",
       "2002-05-11   -1.142632\n",
       "2002-05-12   -0.450254\n",
       "2002-05-13   -2.321636\n",
       "2002-05-14    0.070123\n",
       "2002-05-15   -1.604098\n",
       "2002-05-16    0.618919\n",
       "2002-05-17    1.508589\n",
       "2002-05-18    0.105626\n",
       "2002-05-19    0.083503\n",
       "2002-05-20    0.149028\n",
       "2002-05-21    0.448606\n",
       "2002-05-22   -0.807464\n",
       "2002-05-23    1.149238\n",
       "2002-05-24    1.223581\n",
       "2002-05-25   -2.093379\n",
       "2002-05-26   -0.519549\n",
       "2002-05-27    0.614870\n",
       "2002-05-28   -1.427352\n",
       "2002-05-29    0.922482\n",
       "2002-05-30    3.603690\n",
       "2002-05-31   -0.095918\n",
       "Freq: D, dtype: float64"
      ]
     },
     "execution_count": 112,
     "metadata": {},
     "output_type": "execute_result"
    }
   ],
   "source": [
    "long_time_series['2002-05']"
   ]
  },
  {
   "cell_type": "code",
   "execution_count": 113,
   "metadata": {
    "collapsed": false
   },
   "outputs": [
    {
     "data": {
      "text/plain": [
       "2000-01-01   -0.892706\n",
       "2000-01-02   -0.954934\n",
       "2000-01-03    1.001793\n",
       "2000-01-04    0.593653\n",
       "2000-01-05   -0.100989\n",
       "2000-01-06   -0.782462\n",
       "2000-01-07    0.482332\n",
       "2000-01-08   -0.570150\n",
       "2000-01-09   -0.561303\n",
       "2000-01-10   -1.682985\n",
       "Freq: D, dtype: float64"
      ]
     },
     "execution_count": 113,
     "metadata": {},
     "output_type": "execute_result"
    }
   ],
   "source": [
    "# Subset using start/stop times\n",
    "long_time_series['1/1/2000':'1/10/2000']"
   ]
  },
  {
   "cell_type": "markdown",
   "metadata": {},
   "source": [
    "#### Fun with `date_range`:\n",
    "As alluded to above, with the `date_range` function you can do all sorts of awesome things to generate customized tim series datetime indices.\n",
    "\n",
    "For instance, you can control the frequency and length:"
   ]
  },
  {
   "cell_type": "code",
   "execution_count": 115,
   "metadata": {
    "collapsed": false
   },
   "outputs": [
    {
     "data": {
      "text/html": [
       "<div>\n",
       "<table border=\"1\" class=\"dataframe\">\n",
       "  <thead>\n",
       "    <tr style=\"text-align: right;\">\n",
       "      <th></th>\n",
       "      <th>New York</th>\n",
       "      <th>Michigan</th>\n",
       "      <th>Oregon</th>\n",
       "      <th>Alaska</th>\n",
       "    </tr>\n",
       "  </thead>\n",
       "  <tbody>\n",
       "    <tr>\n",
       "      <th>1995-03-15</th>\n",
       "      <td>0.255916</td>\n",
       "      <td>0.928865</td>\n",
       "      <td>0.544136</td>\n",
       "      <td>0.019293</td>\n",
       "    </tr>\n",
       "    <tr>\n",
       "      <th>1995-03-22</th>\n",
       "      <td>0.416878</td>\n",
       "      <td>0.176049</td>\n",
       "      <td>0.941929</td>\n",
       "      <td>0.084560</td>\n",
       "    </tr>\n",
       "    <tr>\n",
       "      <th>1995-03-29</th>\n",
       "      <td>0.135562</td>\n",
       "      <td>0.241598</td>\n",
       "      <td>0.584459</td>\n",
       "      <td>0.835231</td>\n",
       "    </tr>\n",
       "    <tr>\n",
       "      <th>1995-04-05</th>\n",
       "      <td>0.794003</td>\n",
       "      <td>0.153005</td>\n",
       "      <td>0.135096</td>\n",
       "      <td>0.918527</td>\n",
       "    </tr>\n",
       "    <tr>\n",
       "      <th>1995-04-12</th>\n",
       "      <td>0.651467</td>\n",
       "      <td>0.473901</td>\n",
       "      <td>0.650234</td>\n",
       "      <td>0.191925</td>\n",
       "    </tr>\n",
       "  </tbody>\n",
       "</table>\n",
       "</div>"
      ],
      "text/plain": [
       "            New York  Michigan    Oregon    Alaska\n",
       "1995-03-15  0.255916  0.928865  0.544136  0.019293\n",
       "1995-03-22  0.416878  0.176049  0.941929  0.084560\n",
       "1995-03-29  0.135562  0.241598  0.584459  0.835231\n",
       "1995-04-05  0.794003  0.153005  0.135096  0.918527\n",
       "1995-04-12  0.651467  0.473901  0.650234  0.191925"
      ]
     },
     "execution_count": 115,
     "metadata": {},
     "output_type": "execute_result"
    }
   ],
   "source": [
    "# Create a date range of the first 100 Wednesdays starting 1/1/1995\n",
    "dates = pd.date_range('1/1/1995', periods=100, freq='W-WED')\n",
    "# Generate 4 columns of 100 random datapoints for that date range\n",
    "df = pd.DataFrame(np.random.rand(100, 4), index = dates, columns = ['New York', \"Michigan\", \"Oregon\", \"Alaska\"])\n",
    "df.iloc[10:15]"
   ]
  },
  {
   "cell_type": "code",
   "execution_count": 116,
   "metadata": {
    "collapsed": false
   },
   "outputs": [
    {
     "data": {
      "text/plain": [
       "New York    0.135562\n",
       "Michigan    0.241598\n",
       "Oregon      0.584459\n",
       "Alaska      0.835231\n",
       "Name: 1995-03-29 00:00:00, dtype: float64"
      ]
     },
     "execution_count": 116,
     "metadata": {},
     "output_type": "execute_result"
    }
   ],
   "source": [
    "# Alternative indexing\n",
    "df.ix['1995, 03, 29']"
   ]
  },
  {
   "cell_type": "code",
   "execution_count": 117,
   "metadata": {
    "collapsed": false
   },
   "outputs": [
    {
     "data": {
      "text/plain": [
       "New York    0.135562\n",
       "Michigan    0.241598\n",
       "Oregon      0.584459\n",
       "Alaska      0.835231\n",
       "Name: 1995-03-29 00:00:00, dtype: float64"
      ]
     },
     "execution_count": 117,
     "metadata": {},
     "output_type": "execute_result"
    }
   ],
   "source": [
    "# Alternative Indexing\n",
    "df.ix['19950329']"
   ]
  },
  {
   "cell_type": "code",
   "execution_count": 118,
   "metadata": {
    "collapsed": false
   },
   "outputs": [
    {
     "data": {
      "text/html": [
       "<div>\n",
       "<table border=\"1\" class=\"dataframe\">\n",
       "  <thead>\n",
       "    <tr style=\"text-align: right;\">\n",
       "      <th></th>\n",
       "      <th>New York</th>\n",
       "      <th>Michigan</th>\n",
       "      <th>Oregon</th>\n",
       "      <th>Alaska</th>\n",
       "    </tr>\n",
       "  </thead>\n",
       "  <tbody>\n",
       "    <tr>\n",
       "      <th>1995-03-29</th>\n",
       "      <td>0.135562</td>\n",
       "      <td>0.241598</td>\n",
       "      <td>0.584459</td>\n",
       "      <td>0.835231</td>\n",
       "    </tr>\n",
       "    <tr>\n",
       "      <th>1995-04-05</th>\n",
       "      <td>0.794003</td>\n",
       "      <td>0.153005</td>\n",
       "      <td>0.135096</td>\n",
       "      <td>0.918527</td>\n",
       "    </tr>\n",
       "    <tr>\n",
       "      <th>1995-04-12</th>\n",
       "      <td>0.651467</td>\n",
       "      <td>0.473901</td>\n",
       "      <td>0.650234</td>\n",
       "      <td>0.191925</td>\n",
       "    </tr>\n",
       "    <tr>\n",
       "      <th>1995-04-19</th>\n",
       "      <td>0.829972</td>\n",
       "      <td>0.941832</td>\n",
       "      <td>0.430835</td>\n",
       "      <td>0.706278</td>\n",
       "    </tr>\n",
       "    <tr>\n",
       "      <th>1995-04-26</th>\n",
       "      <td>0.866926</td>\n",
       "      <td>0.366171</td>\n",
       "      <td>0.931547</td>\n",
       "      <td>0.554310</td>\n",
       "    </tr>\n",
       "    <tr>\n",
       "      <th>1995-05-03</th>\n",
       "      <td>0.978163</td>\n",
       "      <td>0.603137</td>\n",
       "      <td>0.195593</td>\n",
       "      <td>0.338507</td>\n",
       "    </tr>\n",
       "    <tr>\n",
       "      <th>1995-05-10</th>\n",
       "      <td>0.143911</td>\n",
       "      <td>0.521650</td>\n",
       "      <td>0.915180</td>\n",
       "      <td>0.515659</td>\n",
       "    </tr>\n",
       "    <tr>\n",
       "      <th>1995-05-17</th>\n",
       "      <td>0.830460</td>\n",
       "      <td>0.013656</td>\n",
       "      <td>0.455289</td>\n",
       "      <td>0.868487</td>\n",
       "    </tr>\n",
       "    <tr>\n",
       "      <th>1995-05-24</th>\n",
       "      <td>0.074033</td>\n",
       "      <td>0.832118</td>\n",
       "      <td>0.981481</td>\n",
       "      <td>0.959981</td>\n",
       "    </tr>\n",
       "    <tr>\n",
       "      <th>1995-05-31</th>\n",
       "      <td>0.274063</td>\n",
       "      <td>0.713927</td>\n",
       "      <td>0.402504</td>\n",
       "      <td>0.264659</td>\n",
       "    </tr>\n",
       "    <tr>\n",
       "      <th>1995-06-07</th>\n",
       "      <td>0.886793</td>\n",
       "      <td>0.035809</td>\n",
       "      <td>0.950789</td>\n",
       "      <td>0.890182</td>\n",
       "    </tr>\n",
       "    <tr>\n",
       "      <th>1995-06-14</th>\n",
       "      <td>0.178652</td>\n",
       "      <td>0.098148</td>\n",
       "      <td>0.926492</td>\n",
       "      <td>0.502205</td>\n",
       "    </tr>\n",
       "    <tr>\n",
       "      <th>1995-06-21</th>\n",
       "      <td>0.153046</td>\n",
       "      <td>0.667601</td>\n",
       "      <td>0.826239</td>\n",
       "      <td>0.689574</td>\n",
       "    </tr>\n",
       "    <tr>\n",
       "      <th>1995-06-28</th>\n",
       "      <td>0.010089</td>\n",
       "      <td>0.791418</td>\n",
       "      <td>0.077643</td>\n",
       "      <td>0.686176</td>\n",
       "    </tr>\n",
       "  </tbody>\n",
       "</table>\n",
       "</div>"
      ],
      "text/plain": [
       "            New York  Michigan    Oregon    Alaska\n",
       "1995-03-29  0.135562  0.241598  0.584459  0.835231\n",
       "1995-04-05  0.794003  0.153005  0.135096  0.918527\n",
       "1995-04-12  0.651467  0.473901  0.650234  0.191925\n",
       "1995-04-19  0.829972  0.941832  0.430835  0.706278\n",
       "1995-04-26  0.866926  0.366171  0.931547  0.554310\n",
       "1995-05-03  0.978163  0.603137  0.195593  0.338507\n",
       "1995-05-10  0.143911  0.521650  0.915180  0.515659\n",
       "1995-05-17  0.830460  0.013656  0.455289  0.868487\n",
       "1995-05-24  0.074033  0.832118  0.981481  0.959981\n",
       "1995-05-31  0.274063  0.713927  0.402504  0.264659\n",
       "1995-06-07  0.886793  0.035809  0.950789  0.890182\n",
       "1995-06-14  0.178652  0.098148  0.926492  0.502205\n",
       "1995-06-21  0.153046  0.667601  0.826239  0.689574\n",
       "1995-06-28  0.010089  0.791418  0.077643  0.686176"
      ]
     },
     "execution_count": 118,
     "metadata": {},
     "output_type": "execute_result"
    }
   ],
   "source": [
    "df.ix['19950329':'19950629']"
   ]
  },
  {
   "cell_type": "markdown",
   "metadata": {},
   "source": [
    "##### Dealing With Frequency Offsets and Multipliers"
   ]
  },
  {
   "cell_type": "code",
   "execution_count": 120,
   "metadata": {
    "collapsed": false
   },
   "outputs": [
    {
     "name": "stdout",
     "output_type": "stream",
     "text": [
      "<Hour>\n"
     ]
    },
    {
     "data": {
      "text/plain": [
       "<6 * Hours>"
      ]
     },
     "execution_count": 120,
     "metadata": {},
     "output_type": "execute_result"
    }
   ],
   "source": [
    "from pandas.tseries.offsets import Hour, Minute\n",
    "hour = Hour()\n",
    "print hour\n",
    "six_hours = Hour(6)\n",
    "six_hours"
   ]
  },
  {
   "cell_type": "code",
   "execution_count": 122,
   "metadata": {
    "collapsed": false
   },
   "outputs": [
    {
     "data": {
      "text/plain": [
       "DatetimeIndex(['1990-01-01 00:00:00', '1990-01-01 06:00:00',\n",
       "               '1990-01-01 12:00:00', '1990-01-01 18:00:00'],\n",
       "              dtype='datetime64[ns]', freq='6H')"
      ]
     },
     "execution_count": 122,
     "metadata": {},
     "output_type": "execute_result"
    }
   ],
   "source": [
    "# Date Range for the first day of 1990 every 6 hours\n",
    "pd.date_range('1/1/1990', '1/1/1990 23:59', freq='6H')"
   ]
  },
  {
   "cell_type": "code",
   "execution_count": 123,
   "metadata": {
    "collapsed": false
   },
   "outputs": [
    {
     "data": {
      "text/plain": [
       "DatetimeIndex(['1990-01-01 00:00:00', '1990-01-01 02:45:00',\n",
       "               '1990-01-01 05:30:00', '1990-01-01 08:15:00',\n",
       "               '1990-01-01 11:00:00', '1990-01-01 13:45:00',\n",
       "               '1990-01-01 16:30:00', '1990-01-01 19:15:00',\n",
       "               '1990-01-01 22:00:00'],\n",
       "              dtype='datetime64[ns]', freq='165T')"
      ]
     },
     "execution_count": 123,
     "metadata": {},
     "output_type": "execute_result"
    }
   ],
   "source": [
    "# Date Range for the first day of 1990 every 2:45\n",
    "pd.date_range('1/1/1990', '1/1/1990 23:59', freq=Hour(2)+Minute(45))"
   ]
  },
  {
   "cell_type": "code",
   "execution_count": 124,
   "metadata": {
    "collapsed": false
   },
   "outputs": [
    {
     "data": {
      "text/plain": [
       "DatetimeIndex(['1990-01-19', '1990-02-16', '1990-03-16', '1990-04-20',\n",
       "               '1990-05-18'],\n",
       "              dtype='datetime64[ns]', freq='WOM-3FRI')"
      ]
     },
     "execution_count": 124,
     "metadata": {},
     "output_type": "execute_result"
    }
   ],
   "source": [
    "# Date Range for the first 6 months of 1990, using the 3rd Friday of the month via \"Week of the Month\" specifier\n",
    "pd.date_range('1/1/1990', '6/1/1990', freq='WOM-3FRI')"
   ]
  },
  {
   "cell_type": "code",
   "execution_count": 125,
   "metadata": {
    "collapsed": false
   },
   "outputs": [
    {
     "data": {
      "text/plain": [
       "DatetimeIndex(['2015-01-30', '2015-02-27', '2015-03-31', '2015-04-30',\n",
       "               '2015-05-29', '2015-06-30', '2015-07-31'],\n",
       "              dtype='datetime64[ns]', freq='BM')"
      ]
     },
     "execution_count": 125,
     "metadata": {},
     "output_type": "execute_result"
    }
   ],
   "source": [
    "# last business day of the month\n",
    "pd.date_range('1/1/2015', '8/1/2015', freq='BM')"
   ]
  },
  {
   "cell_type": "code",
   "execution_count": 126,
   "metadata": {
    "collapsed": false
   },
   "outputs": [
    {
     "data": {
      "text/plain": [
       "DatetimeIndex(['2015-01-31', '2015-02-28', '2015-03-31', '2015-04-30',\n",
       "               '2015-05-31', '2015-06-30', '2015-07-31'],\n",
       "              dtype='datetime64[ns]', freq='M')"
      ]
     },
     "execution_count": 126,
     "metadata": {},
     "output_type": "execute_result"
    }
   ],
   "source": [
    "#last calendar day of the month\n",
    "pd.date_range('1/1/2015', '8/1/2015', freq='M')"
   ]
  },
  {
   "cell_type": "markdown",
   "metadata": {},
   "source": [
    "##### With all these specifiers you can accomplish just about any datetime indexing that you want!!"
   ]
  },
  {
   "cell_type": "markdown",
   "metadata": {},
   "source": [
    "### Changing the Game: Shifting Data - Leading and Lagging\n",
    "`Series` and `DataFrame` have a [`shift()`](http://pandas.pydata.org/pandas-docs/version/0.17.1/generated/pandas.DataFrame.shift.html) method, which moves time series data forward or backward, leaving the index the same:"
   ]
  },
  {
   "cell_type": "code",
   "execution_count": 127,
   "metadata": {
    "collapsed": false
   },
   "outputs": [
    {
     "data": {
      "text/plain": [
       "1960-01-31   -0.547888\n",
       "1960-02-29    0.627381\n",
       "1960-03-31    1.636295\n",
       "1960-04-30    1.148699\n",
       "Freq: M, dtype: float64"
      ]
     },
     "execution_count": 127,
     "metadata": {},
     "output_type": "execute_result"
    }
   ],
   "source": [
    "# Create a time series\n",
    "time_s = pd.Series(np.random.randn(4), index = pd.date_range('1/1/1960', periods = 4, freq = 'M'))\n",
    "time_s"
   ]
  },
  {
   "cell_type": "code",
   "execution_count": 128,
   "metadata": {
    "collapsed": false
   },
   "outputs": [
    {
     "data": {
      "text/plain": [
       "1960-01-31         NaN\n",
       "1960-02-29         NaN\n",
       "1960-03-31   -0.547888\n",
       "1960-04-30    0.627381\n",
       "Freq: M, dtype: float64"
      ]
     },
     "execution_count": 128,
     "metadata": {},
     "output_type": "execute_result"
    }
   ],
   "source": [
    "# shift the series forward 2 months\n",
    "time_s.shift(2)"
   ]
  },
  {
   "cell_type": "code",
   "execution_count": 129,
   "metadata": {
    "collapsed": false
   },
   "outputs": [
    {
     "data": {
      "text/plain": [
       "1960-01-31    1.636295\n",
       "1960-02-29    1.148699\n",
       "1960-03-31         NaN\n",
       "1960-04-30         NaN\n",
       "Freq: M, dtype: float64"
      ]
     },
     "execution_count": 129,
     "metadata": {},
     "output_type": "execute_result"
    }
   ],
   "source": [
    "# shift back 2 months\n",
    "time_s.shift(-2)"
   ]
  },
  {
   "cell_type": "markdown",
   "metadata": {},
   "source": [
    "In the above 2 examples, data is discarded. If the period is known however, you can advance the timestamps if required:"
   ]
  },
  {
   "cell_type": "code",
   "execution_count": 130,
   "metadata": {
    "collapsed": false
   },
   "outputs": [
    {
     "data": {
      "text/plain": [
       "1960-03-31   -0.547888\n",
       "1960-04-30    0.627381\n",
       "1960-05-31    1.636295\n",
       "1960-06-30    1.148699\n",
       "Freq: M, dtype: float64"
      ]
     },
     "execution_count": 130,
     "metadata": {},
     "output_type": "execute_result"
    }
   ],
   "source": [
    "# Shift forward 2 but have the indexes keep up\n",
    "time_s.shift(2, freq='M')"
   ]
  },
  {
   "cell_type": "markdown",
   "metadata": {},
   "source": [
    "### Filling the Gaps: Resampling and Frequency Conversion\n",
    "***Resampling*** refers to the process of converting a time series from one frequency to another.\n",
    "\n",
    "***Down sampling*** means converting higher frequency data to a lower frequency.\n",
    "\n",
    "***Up sampling*** means converting lower frequency data to a higher frequency.\n",
    "\n",
    "`Pandas` has its own glorious [`resample()`](http://pandas.pydata.org/pandas-docs/stable/generated/pandas.DataFrame.resample.html) method that can do everything you've ever dreamed of:\n",
    "- freq: Indicates the desired resample frequency\n",
    "- how: Function name that produces the aggregated values (defaults to 'mean')\n",
    "- fill_method: How to interpolate when upsampling, 'ffill' for forward fill, 'bfill' for backfill\n",
    "- kind: aggregates to periods ('period') or timestamps('timestamp'), defaulting to the kind of index the time series already has\n",
    "\n",
    "Let's take a look!"
   ]
  },
  {
   "cell_type": "code",
   "execution_count": 131,
   "metadata": {
    "collapsed": false,
    "scrolled": true
   },
   "outputs": [
    {
     "data": {
      "text/plain": [
       "1980-01-01 00:00:00     0\n",
       "1980-01-01 00:01:00     1\n",
       "1980-01-01 00:02:00     2\n",
       "1980-01-01 00:03:00     3\n",
       "1980-01-01 00:04:00     4\n",
       "1980-01-01 00:05:00     5\n",
       "1980-01-01 00:06:00     6\n",
       "1980-01-01 00:07:00     7\n",
       "1980-01-01 00:08:00     8\n",
       "1980-01-01 00:09:00     9\n",
       "1980-01-01 00:10:00    10\n",
       "1980-01-01 00:11:00    11\n",
       "Freq: T, dtype: int64"
      ]
     },
     "execution_count": 131,
     "metadata": {},
     "output_type": "execute_result"
    }
   ],
   "source": [
    "# Create a time series to play with\n",
    "date_range = pd.date_range('1/1/1980', periods = 12, freq='T')\n",
    "ts_A = pd.Series(np.arange(12), index=date_range)\n",
    "ts_A"
   ]
  },
  {
   "cell_type": "markdown",
   "metadata": {},
   "source": [
    "#### Downsampling and Aggregation\n",
    "- aggregating data to a regular, lower frequency\n",
    "- not an uncommon operation\n",
    "- the desired frequency defines bin edges. These slice the time series into pieces to aggregate.\n",
    "- the intervals are said to be 'half open', and thought must go into which side of an interval is  closed\n",
    "- the new bins have to be labeled using either the start or the end of the interval"
   ]
  },
  {
   "cell_type": "code",
   "execution_count": 132,
   "metadata": {
    "collapsed": false
   },
   "outputs": [
    {
     "data": {
      "text/plain": [
       "1979-12-31 23:55:00     0\n",
       "1980-01-01 00:00:00    15\n",
       "1980-01-01 00:05:00    40\n",
       "1980-01-01 00:10:00    11\n",
       "Freq: 5T, dtype: int64"
      ]
     },
     "execution_count": 132,
     "metadata": {},
     "output_type": "execute_result"
    }
   ],
   "source": [
    "# Downsample to 5 minute intervals, by taking the sum of each interval\n",
    "ts_B1 = ts_A.resample('5min', how='sum', closed='right', label='left')\n",
    "ts_B1"
   ]
  },
  {
   "cell_type": "code",
   "execution_count": 133,
   "metadata": {
    "collapsed": false
   },
   "outputs": [
    {
     "data": {
      "text/plain": [
       "1980-01-01 00:00:00     0\n",
       "1980-01-01 00:05:00    15\n",
       "1980-01-01 00:10:00    40\n",
       "1980-01-01 00:15:00    11\n",
       "Freq: 5T, dtype: int64"
      ]
     },
     "execution_count": 133,
     "metadata": {},
     "output_type": "execute_result"
    }
   ],
   "source": [
    "# Downsample to 5 minute intervals, by taking the sum of each interval\n",
    "ts_B2 = ts_A.resample('5min', how='sum', closed='right', label='right')\n",
    "ts_B2"
   ]
  },
  {
   "cell_type": "code",
   "execution_count": 134,
   "metadata": {
    "collapsed": false
   },
   "outputs": [
    {
     "data": {
      "text/plain": [
       "1980-01-01 00:00:00    10\n",
       "1980-01-01 00:05:00    35\n",
       "1980-01-01 00:10:00    21\n",
       "Freq: 5T, dtype: int64"
      ]
     },
     "execution_count": 134,
     "metadata": {},
     "output_type": "execute_result"
    }
   ],
   "source": [
    "# Downsample to 5 minute intervals, by taking the sum of each interval\n",
    "ts_B3 = ts_A.resample('5min', how='sum', closed='left', label='left')\n",
    "ts_B3"
   ]
  },
  {
   "cell_type": "code",
   "execution_count": 135,
   "metadata": {
    "collapsed": false
   },
   "outputs": [
    {
     "data": {
      "text/plain": [
       "1980-01-01 00:05:00    10\n",
       "1980-01-01 00:10:00    35\n",
       "1980-01-01 00:15:00    21\n",
       "Freq: 5T, dtype: int64"
      ]
     },
     "execution_count": 135,
     "metadata": {},
     "output_type": "execute_result"
    }
   ],
   "source": [
    "# Downsample to 5 minute intervals, by taking the sum of each interval\n",
    "ts_B4 = ts_A.resample('5min', how='sum', closed='left', label='right')\n",
    "ts_B4"
   ]
  },
  {
   "cell_type": "markdown",
   "metadata": {},
   "source": [
    "You can also shift the index by a time amount if needed:"
   ]
  },
  {
   "cell_type": "code",
   "execution_count": 136,
   "metadata": {
    "collapsed": false
   },
   "outputs": [
    {
     "data": {
      "text/plain": [
       "1980-01-01 00:02:30    10\n",
       "1980-01-01 00:07:30    35\n",
       "1980-01-01 00:12:30    21\n",
       "Freq: 5T, dtype: int64"
      ]
     },
     "execution_count": 136,
     "metadata": {},
     "output_type": "execute_result"
    }
   ],
   "source": [
    "# Downsample to 5 minute intervals, by taking the sum of each interval, also shift the time index\n",
    "ts_B5 = ts_A.resample('5min', how='sum', closed='left', label='left', loffset='+150S')\n",
    "ts_B5"
   ]
  },
  {
   "cell_type": "markdown",
   "metadata": {},
   "source": [
    "##### [Open-High-Low-Close Resampling](https://en.wikipedia.org/wiki/Open-high-low-close_chart) often seen with stocks:"
   ]
  },
  {
   "cell_type": "code",
   "execution_count": 137,
   "metadata": {
    "collapsed": false
   },
   "outputs": [
    {
     "data": {
      "text/html": [
       "<div>\n",
       "<table border=\"1\" class=\"dataframe\">\n",
       "  <thead>\n",
       "    <tr style=\"text-align: right;\">\n",
       "      <th></th>\n",
       "      <th>open</th>\n",
       "      <th>high</th>\n",
       "      <th>low</th>\n",
       "      <th>close</th>\n",
       "    </tr>\n",
       "  </thead>\n",
       "  <tbody>\n",
       "    <tr>\n",
       "      <th>1980-01-01 00:00:00</th>\n",
       "      <td>0</td>\n",
       "      <td>0</td>\n",
       "      <td>0</td>\n",
       "      <td>0</td>\n",
       "    </tr>\n",
       "    <tr>\n",
       "      <th>1980-01-01 00:05:00</th>\n",
       "      <td>1</td>\n",
       "      <td>5</td>\n",
       "      <td>1</td>\n",
       "      <td>5</td>\n",
       "    </tr>\n",
       "    <tr>\n",
       "      <th>1980-01-01 00:10:00</th>\n",
       "      <td>6</td>\n",
       "      <td>10</td>\n",
       "      <td>6</td>\n",
       "      <td>10</td>\n",
       "    </tr>\n",
       "    <tr>\n",
       "      <th>1980-01-01 00:15:00</th>\n",
       "      <td>11</td>\n",
       "      <td>11</td>\n",
       "      <td>11</td>\n",
       "      <td>11</td>\n",
       "    </tr>\n",
       "  </tbody>\n",
       "</table>\n",
       "</div>"
      ],
      "text/plain": [
       "                     open  high  low  close\n",
       "1980-01-01 00:00:00     0     0    0      0\n",
       "1980-01-01 00:05:00     1     5    1      5\n",
       "1980-01-01 00:10:00     6    10    6     10\n",
       "1980-01-01 00:15:00    11    11   11     11"
      ]
     },
     "execution_count": 137,
     "metadata": {},
     "output_type": "execute_result"
    }
   ],
   "source": [
    "ts_B6 = ts_A.resample('5min', how='ohlc', closed='right', label='right')\n",
    "ts_B6"
   ]
  },
  {
   "cell_type": "markdown",
   "metadata": {},
   "source": [
    "#### Upsampling and Interpolation\n",
    "Hopefully it is apparent that when you upsample you do not need to aggregate.  You are, in fact, creating more data buckets than  you have samples of data to fill.  \n",
    "\n",
    "We need to ***interpolate*** those new datapoints!\n",
    "\n",
    "##### How might we approach this?\n",
    "Ideas???\n",
    "\n",
    "Let's create a toy dataset to try it out with:"
   ]
  },
  {
   "cell_type": "code",
   "execution_count": 138,
   "metadata": {
    "collapsed": false
   },
   "outputs": [
    {
     "data": {
      "text/html": [
       "<div>\n",
       "<table border=\"1\" class=\"dataframe\">\n",
       "  <thead>\n",
       "    <tr style=\"text-align: right;\">\n",
       "      <th></th>\n",
       "      <th>Sussex</th>\n",
       "      <th>Kent</th>\n",
       "      <th>Lancashire</th>\n",
       "      <th>London</th>\n",
       "    </tr>\n",
       "  </thead>\n",
       "  <tbody>\n",
       "    <tr>\n",
       "      <th>1980-01-02</th>\n",
       "      <td>-0.363662</td>\n",
       "      <td>-1.213165</td>\n",
       "      <td>0.459657</td>\n",
       "      <td>-0.360596</td>\n",
       "    </tr>\n",
       "    <tr>\n",
       "      <th>1980-01-09</th>\n",
       "      <td>-0.727741</td>\n",
       "      <td>-0.809795</td>\n",
       "      <td>0.262844</td>\n",
       "      <td>0.408507</td>\n",
       "    </tr>\n",
       "  </tbody>\n",
       "</table>\n",
       "</div>"
      ],
      "text/plain": [
       "              Sussex      Kent  Lancashire    London\n",
       "1980-01-02 -0.363662 -1.213165    0.459657 -0.360596\n",
       "1980-01-09 -0.727741 -0.809795    0.262844  0.408507"
      ]
     },
     "execution_count": 138,
     "metadata": {},
     "output_type": "execute_result"
    }
   ],
   "source": [
    "time_frame = pd.DataFrame(np.random.randn(2, 4), index = pd.date_range('1/1/1980', periods = 2, freq = 'W-WED'), \\\n",
    "columns = [\"Sussex\", \"Kent\", \"Lancashire\", \"London\"])\n",
    "time_frame"
   ]
  },
  {
   "cell_type": "markdown",
   "metadata": {},
   "source": [
    "Let's resample the weekly time series to a daily level by ***\"forward filling\"*** the values that will be missing.  Make sure you can understand what's going on here:"
   ]
  },
  {
   "cell_type": "code",
   "execution_count": 139,
   "metadata": {
    "collapsed": false
   },
   "outputs": [
    {
     "data": {
      "text/html": [
       "<div>\n",
       "<table border=\"1\" class=\"dataframe\">\n",
       "  <thead>\n",
       "    <tr style=\"text-align: right;\">\n",
       "      <th></th>\n",
       "      <th>Sussex</th>\n",
       "      <th>Kent</th>\n",
       "      <th>Lancashire</th>\n",
       "      <th>London</th>\n",
       "    </tr>\n",
       "  </thead>\n",
       "  <tbody>\n",
       "    <tr>\n",
       "      <th>1980-01-02</th>\n",
       "      <td>-0.363662</td>\n",
       "      <td>-1.213165</td>\n",
       "      <td>0.459657</td>\n",
       "      <td>-0.360596</td>\n",
       "    </tr>\n",
       "    <tr>\n",
       "      <th>1980-01-03</th>\n",
       "      <td>NaN</td>\n",
       "      <td>NaN</td>\n",
       "      <td>NaN</td>\n",
       "      <td>NaN</td>\n",
       "    </tr>\n",
       "    <tr>\n",
       "      <th>1980-01-04</th>\n",
       "      <td>NaN</td>\n",
       "      <td>NaN</td>\n",
       "      <td>NaN</td>\n",
       "      <td>NaN</td>\n",
       "    </tr>\n",
       "    <tr>\n",
       "      <th>1980-01-05</th>\n",
       "      <td>NaN</td>\n",
       "      <td>NaN</td>\n",
       "      <td>NaN</td>\n",
       "      <td>NaN</td>\n",
       "    </tr>\n",
       "    <tr>\n",
       "      <th>1980-01-06</th>\n",
       "      <td>NaN</td>\n",
       "      <td>NaN</td>\n",
       "      <td>NaN</td>\n",
       "      <td>NaN</td>\n",
       "    </tr>\n",
       "    <tr>\n",
       "      <th>1980-01-07</th>\n",
       "      <td>NaN</td>\n",
       "      <td>NaN</td>\n",
       "      <td>NaN</td>\n",
       "      <td>NaN</td>\n",
       "    </tr>\n",
       "    <tr>\n",
       "      <th>1980-01-08</th>\n",
       "      <td>NaN</td>\n",
       "      <td>NaN</td>\n",
       "      <td>NaN</td>\n",
       "      <td>NaN</td>\n",
       "    </tr>\n",
       "    <tr>\n",
       "      <th>1980-01-09</th>\n",
       "      <td>-0.727741</td>\n",
       "      <td>-0.809795</td>\n",
       "      <td>0.262844</td>\n",
       "      <td>0.408507</td>\n",
       "    </tr>\n",
       "  </tbody>\n",
       "</table>\n",
       "</div>"
      ],
      "text/plain": [
       "              Sussex      Kent  Lancashire    London\n",
       "1980-01-02 -0.363662 -1.213165    0.459657 -0.360596\n",
       "1980-01-03       NaN       NaN         NaN       NaN\n",
       "1980-01-04       NaN       NaN         NaN       NaN\n",
       "1980-01-05       NaN       NaN         NaN       NaN\n",
       "1980-01-06       NaN       NaN         NaN       NaN\n",
       "1980-01-07       NaN       NaN         NaN       NaN\n",
       "1980-01-08       NaN       NaN         NaN       NaN\n",
       "1980-01-09 -0.727741 -0.809795    0.262844  0.408507"
      ]
     },
     "execution_count": 139,
     "metadata": {},
     "output_type": "execute_result"
    }
   ],
   "source": [
    "time_frame_daily = time_frame.resample('D')\n",
    "time_frame_daily"
   ]
  },
  {
   "cell_type": "code",
   "execution_count": 140,
   "metadata": {
    "collapsed": false
   },
   "outputs": [
    {
     "data": {
      "text/html": [
       "<div>\n",
       "<table border=\"1\" class=\"dataframe\">\n",
       "  <thead>\n",
       "    <tr style=\"text-align: right;\">\n",
       "      <th></th>\n",
       "      <th>Sussex</th>\n",
       "      <th>Kent</th>\n",
       "      <th>Lancashire</th>\n",
       "      <th>London</th>\n",
       "    </tr>\n",
       "  </thead>\n",
       "  <tbody>\n",
       "    <tr>\n",
       "      <th>1980-01-02</th>\n",
       "      <td>-0.363662</td>\n",
       "      <td>-1.213165</td>\n",
       "      <td>0.459657</td>\n",
       "      <td>-0.360596</td>\n",
       "    </tr>\n",
       "    <tr>\n",
       "      <th>1980-01-03</th>\n",
       "      <td>-0.363662</td>\n",
       "      <td>-1.213165</td>\n",
       "      <td>0.459657</td>\n",
       "      <td>-0.360596</td>\n",
       "    </tr>\n",
       "    <tr>\n",
       "      <th>1980-01-04</th>\n",
       "      <td>-0.363662</td>\n",
       "      <td>-1.213165</td>\n",
       "      <td>0.459657</td>\n",
       "      <td>-0.360596</td>\n",
       "    </tr>\n",
       "    <tr>\n",
       "      <th>1980-01-05</th>\n",
       "      <td>-0.363662</td>\n",
       "      <td>-1.213165</td>\n",
       "      <td>0.459657</td>\n",
       "      <td>-0.360596</td>\n",
       "    </tr>\n",
       "    <tr>\n",
       "      <th>1980-01-06</th>\n",
       "      <td>-0.363662</td>\n",
       "      <td>-1.213165</td>\n",
       "      <td>0.459657</td>\n",
       "      <td>-0.360596</td>\n",
       "    </tr>\n",
       "    <tr>\n",
       "      <th>1980-01-07</th>\n",
       "      <td>-0.363662</td>\n",
       "      <td>-1.213165</td>\n",
       "      <td>0.459657</td>\n",
       "      <td>-0.360596</td>\n",
       "    </tr>\n",
       "    <tr>\n",
       "      <th>1980-01-08</th>\n",
       "      <td>-0.363662</td>\n",
       "      <td>-1.213165</td>\n",
       "      <td>0.459657</td>\n",
       "      <td>-0.360596</td>\n",
       "    </tr>\n",
       "    <tr>\n",
       "      <th>1980-01-09</th>\n",
       "      <td>-0.727741</td>\n",
       "      <td>-0.809795</td>\n",
       "      <td>0.262844</td>\n",
       "      <td>0.408507</td>\n",
       "    </tr>\n",
       "  </tbody>\n",
       "</table>\n",
       "</div>"
      ],
      "text/plain": [
       "              Sussex      Kent  Lancashire    London\n",
       "1980-01-02 -0.363662 -1.213165    0.459657 -0.360596\n",
       "1980-01-03 -0.363662 -1.213165    0.459657 -0.360596\n",
       "1980-01-04 -0.363662 -1.213165    0.459657 -0.360596\n",
       "1980-01-05 -0.363662 -1.213165    0.459657 -0.360596\n",
       "1980-01-06 -0.363662 -1.213165    0.459657 -0.360596\n",
       "1980-01-07 -0.363662 -1.213165    0.459657 -0.360596\n",
       "1980-01-08 -0.363662 -1.213165    0.459657 -0.360596\n",
       "1980-01-09 -0.727741 -0.809795    0.262844  0.408507"
      ]
     },
     "execution_count": 140,
     "metadata": {},
     "output_type": "execute_result"
    }
   ],
   "source": [
    "# Forward fill\n",
    "time_frame_daily_B = time_frame.resample('D', fill_method='ffill')\n",
    "time_frame_daily_B"
   ]
  },
  {
   "cell_type": "markdown",
   "metadata": {},
   "source": [
    "Or we can try a backward fill:"
   ]
  },
  {
   "cell_type": "code",
   "execution_count": 141,
   "metadata": {
    "collapsed": false
   },
   "outputs": [
    {
     "data": {
      "text/html": [
       "<div>\n",
       "<table border=\"1\" class=\"dataframe\">\n",
       "  <thead>\n",
       "    <tr style=\"text-align: right;\">\n",
       "      <th></th>\n",
       "      <th>Sussex</th>\n",
       "      <th>Kent</th>\n",
       "      <th>Lancashire</th>\n",
       "      <th>London</th>\n",
       "    </tr>\n",
       "  </thead>\n",
       "  <tbody>\n",
       "    <tr>\n",
       "      <th>1980-01-02</th>\n",
       "      <td>-0.363662</td>\n",
       "      <td>-1.213165</td>\n",
       "      <td>0.459657</td>\n",
       "      <td>-0.360596</td>\n",
       "    </tr>\n",
       "    <tr>\n",
       "      <th>1980-01-03</th>\n",
       "      <td>-0.727741</td>\n",
       "      <td>-0.809795</td>\n",
       "      <td>0.262844</td>\n",
       "      <td>0.408507</td>\n",
       "    </tr>\n",
       "    <tr>\n",
       "      <th>1980-01-04</th>\n",
       "      <td>-0.727741</td>\n",
       "      <td>-0.809795</td>\n",
       "      <td>0.262844</td>\n",
       "      <td>0.408507</td>\n",
       "    </tr>\n",
       "    <tr>\n",
       "      <th>1980-01-05</th>\n",
       "      <td>-0.727741</td>\n",
       "      <td>-0.809795</td>\n",
       "      <td>0.262844</td>\n",
       "      <td>0.408507</td>\n",
       "    </tr>\n",
       "    <tr>\n",
       "      <th>1980-01-06</th>\n",
       "      <td>-0.727741</td>\n",
       "      <td>-0.809795</td>\n",
       "      <td>0.262844</td>\n",
       "      <td>0.408507</td>\n",
       "    </tr>\n",
       "    <tr>\n",
       "      <th>1980-01-07</th>\n",
       "      <td>-0.727741</td>\n",
       "      <td>-0.809795</td>\n",
       "      <td>0.262844</td>\n",
       "      <td>0.408507</td>\n",
       "    </tr>\n",
       "    <tr>\n",
       "      <th>1980-01-08</th>\n",
       "      <td>-0.727741</td>\n",
       "      <td>-0.809795</td>\n",
       "      <td>0.262844</td>\n",
       "      <td>0.408507</td>\n",
       "    </tr>\n",
       "    <tr>\n",
       "      <th>1980-01-09</th>\n",
       "      <td>-0.727741</td>\n",
       "      <td>-0.809795</td>\n",
       "      <td>0.262844</td>\n",
       "      <td>0.408507</td>\n",
       "    </tr>\n",
       "  </tbody>\n",
       "</table>\n",
       "</div>"
      ],
      "text/plain": [
       "              Sussex      Kent  Lancashire    London\n",
       "1980-01-02 -0.363662 -1.213165    0.459657 -0.360596\n",
       "1980-01-03 -0.727741 -0.809795    0.262844  0.408507\n",
       "1980-01-04 -0.727741 -0.809795    0.262844  0.408507\n",
       "1980-01-05 -0.727741 -0.809795    0.262844  0.408507\n",
       "1980-01-06 -0.727741 -0.809795    0.262844  0.408507\n",
       "1980-01-07 -0.727741 -0.809795    0.262844  0.408507\n",
       "1980-01-08 -0.727741 -0.809795    0.262844  0.408507\n",
       "1980-01-09 -0.727741 -0.809795    0.262844  0.408507"
      ]
     },
     "execution_count": 141,
     "metadata": {},
     "output_type": "execute_result"
    }
   ],
   "source": [
    "# Backward fill\n",
    "time_frame_daily_C = time_frame.resample('D', fill_method='bfill')\n",
    "time_frame_daily_C"
   ]
  },
  {
   "cell_type": "markdown",
   "metadata": {},
   "source": [
    "Check out the `resample()` method documentation to see other ways you can interpolate data!"
   ]
  },
  {
   "cell_type": "markdown",
   "metadata": {},
   "source": [
    "### Plotting Time Series with Pandas\n",
    "Let's load in some [stock data](../Data/stock_px.csv) and take a look at how we can use `Pandas` to plot some familiar quantities from that data."
   ]
  },
  {
   "cell_type": "code",
   "execution_count": 142,
   "metadata": {
    "collapsed": false
   },
   "outputs": [],
   "source": [
    "# Read the data in\n",
    "stocks = pd.read_csv(\"../Data/stock_px.csv\", parse_dates = True, index_col=0)"
   ]
  },
  {
   "cell_type": "code",
   "execution_count": 143,
   "metadata": {
    "collapsed": false
   },
   "outputs": [
    {
     "name": "stdout",
     "output_type": "stream",
     "text": [
      "<class 'pandas.core.frame.DataFrame'>\n",
      "DatetimeIndex: 5472 entries, 1990-02-01 to 2011-10-14\n",
      "Data columns (total 9 columns):\n",
      "AA      5472 non-null float64\n",
      "AAPL    5472 non-null float64\n",
      "GE      5472 non-null float64\n",
      "IBM     5472 non-null float64\n",
      "JNJ     5472 non-null float64\n",
      "MSFT    5472 non-null float64\n",
      "PEP     5471 non-null float64\n",
      "SPX     5472 non-null float64\n",
      "XOM     5472 non-null float64\n",
      "dtypes: float64(9)\n",
      "memory usage: 427.5 KB\n"
     ]
    }
   ],
   "source": [
    "# Inspect\n",
    "stocks.info()"
   ]
  },
  {
   "cell_type": "code",
   "execution_count": 144,
   "metadata": {
    "collapsed": false
   },
   "outputs": [
    {
     "data": {
      "text/html": [
       "<div>\n",
       "<table border=\"1\" class=\"dataframe\">\n",
       "  <thead>\n",
       "    <tr style=\"text-align: right;\">\n",
       "      <th></th>\n",
       "      <th>AA</th>\n",
       "      <th>AAPL</th>\n",
       "      <th>GE</th>\n",
       "      <th>IBM</th>\n",
       "      <th>JNJ</th>\n",
       "      <th>MSFT</th>\n",
       "      <th>PEP</th>\n",
       "      <th>SPX</th>\n",
       "      <th>XOM</th>\n",
       "    </tr>\n",
       "  </thead>\n",
       "  <tbody>\n",
       "    <tr>\n",
       "      <th>1990-02-01</th>\n",
       "      <td>4.98</td>\n",
       "      <td>7.86</td>\n",
       "      <td>2.87</td>\n",
       "      <td>16.79</td>\n",
       "      <td>4.27</td>\n",
       "      <td>0.51</td>\n",
       "      <td>6.04</td>\n",
       "      <td>328.79</td>\n",
       "      <td>6.12</td>\n",
       "    </tr>\n",
       "    <tr>\n",
       "      <th>1990-02-02</th>\n",
       "      <td>5.04</td>\n",
       "      <td>8.00</td>\n",
       "      <td>2.87</td>\n",
       "      <td>16.89</td>\n",
       "      <td>4.37</td>\n",
       "      <td>0.51</td>\n",
       "      <td>6.09</td>\n",
       "      <td>330.92</td>\n",
       "      <td>6.24</td>\n",
       "    </tr>\n",
       "    <tr>\n",
       "      <th>1990-02-05</th>\n",
       "      <td>5.07</td>\n",
       "      <td>8.18</td>\n",
       "      <td>2.87</td>\n",
       "      <td>17.32</td>\n",
       "      <td>4.34</td>\n",
       "      <td>0.51</td>\n",
       "      <td>6.05</td>\n",
       "      <td>331.85</td>\n",
       "      <td>6.25</td>\n",
       "    </tr>\n",
       "    <tr>\n",
       "      <th>1990-02-06</th>\n",
       "      <td>5.01</td>\n",
       "      <td>8.12</td>\n",
       "      <td>2.88</td>\n",
       "      <td>17.56</td>\n",
       "      <td>4.32</td>\n",
       "      <td>0.51</td>\n",
       "      <td>6.15</td>\n",
       "      <td>329.66</td>\n",
       "      <td>6.23</td>\n",
       "    </tr>\n",
       "    <tr>\n",
       "      <th>1990-02-07</th>\n",
       "      <td>5.04</td>\n",
       "      <td>7.77</td>\n",
       "      <td>2.91</td>\n",
       "      <td>17.93</td>\n",
       "      <td>4.38</td>\n",
       "      <td>0.51</td>\n",
       "      <td>6.17</td>\n",
       "      <td>333.75</td>\n",
       "      <td>6.33</td>\n",
       "    </tr>\n",
       "  </tbody>\n",
       "</table>\n",
       "</div>"
      ],
      "text/plain": [
       "              AA  AAPL    GE    IBM   JNJ  MSFT   PEP     SPX   XOM\n",
       "1990-02-01  4.98  7.86  2.87  16.79  4.27  0.51  6.04  328.79  6.12\n",
       "1990-02-02  5.04  8.00  2.87  16.89  4.37  0.51  6.09  330.92  6.24\n",
       "1990-02-05  5.07  8.18  2.87  17.32  4.34  0.51  6.05  331.85  6.25\n",
       "1990-02-06  5.01  8.12  2.88  17.56  4.32  0.51  6.15  329.66  6.23\n",
       "1990-02-07  5.04  7.77  2.91  17.93  4.38  0.51  6.17  333.75  6.33"
      ]
     },
     "execution_count": 144,
     "metadata": {},
     "output_type": "execute_result"
    }
   ],
   "source": [
    "# Inspect\n",
    "stocks.head(5)"
   ]
  },
  {
   "cell_type": "markdown",
   "metadata": {},
   "source": [
    "##### We can easily plot stocks over time as Pandas smoothly handles our DatetimeIndex!"
   ]
  },
  {
   "cell_type": "code",
   "execution_count": 145,
   "metadata": {
    "collapsed": false,
    "scrolled": true
   },
   "outputs": [
    {
     "data": {
      "image/png": "[encoded data removed]",
      "text/plain": [
       "<matplotlib.figure.Figure at 0x10c88cc90>"
      ]
     },
     "metadata": {},
     "output_type": "display_data"
    }
   ],
   "source": [
    "# Plots inline\n",
    "import matplotlib.pyplot as plt\n",
    "%matplotlib inline\n",
    "# Plot Apple stock over time\n",
    "stocks['AAPL'].plot(figsize = (15,5))\n",
    "plt.show()"
   ]
  },
  {
   "cell_type": "markdown",
   "metadata": {},
   "source": [
    "##### The `plot()` function extends naturally to an entire `Dataframe`!"
   ]
  },
  {
   "cell_type": "code",
   "execution_count": 146,
   "metadata": {
    "collapsed": false
   },
   "outputs": [
    {
     "data": {
      "text/html": [
       "<div>\n",
       "<table border=\"1\" class=\"dataframe\">\n",
       "  <thead>\n",
       "    <tr style=\"text-align: right;\">\n",
       "      <th></th>\n",
       "      <th>AAPL</th>\n",
       "      <th>MSFT</th>\n",
       "      <th>XOM</th>\n",
       "    </tr>\n",
       "  </thead>\n",
       "  <tbody>\n",
       "    <tr>\n",
       "      <th>1990-02-01</th>\n",
       "      <td>7.86</td>\n",
       "      <td>0.51</td>\n",
       "      <td>6.12</td>\n",
       "    </tr>\n",
       "    <tr>\n",
       "      <th>1990-02-02</th>\n",
       "      <td>8.00</td>\n",
       "      <td>0.51</td>\n",
       "      <td>6.24</td>\n",
       "    </tr>\n",
       "    <tr>\n",
       "      <th>1990-02-05</th>\n",
       "      <td>8.18</td>\n",
       "      <td>0.51</td>\n",
       "      <td>6.25</td>\n",
       "    </tr>\n",
       "    <tr>\n",
       "      <th>1990-02-06</th>\n",
       "      <td>8.12</td>\n",
       "      <td>0.51</td>\n",
       "      <td>6.23</td>\n",
       "    </tr>\n",
       "    <tr>\n",
       "      <th>1990-02-07</th>\n",
       "      <td>7.77</td>\n",
       "      <td>0.51</td>\n",
       "      <td>6.33</td>\n",
       "    </tr>\n",
       "  </tbody>\n",
       "</table>\n",
       "</div>"
      ],
      "text/plain": [
       "            AAPL  MSFT   XOM\n",
       "1990-02-01  7.86  0.51  6.12\n",
       "1990-02-02  8.00  0.51  6.24\n",
       "1990-02-05  8.18  0.51  6.25\n",
       "1990-02-06  8.12  0.51  6.23\n",
       "1990-02-07  7.77  0.51  6.33"
      ]
     },
     "execution_count": 146,
     "metadata": {},
     "output_type": "execute_result"
    }
   ],
   "source": [
    "# Specify a Dataframe of just 3 stocks to plot\n",
    "three_stocks = stocks[['AAPL', 'MSFT', 'XOM']]\n",
    "three_stocks.head(5)"
   ]
  },
  {
   "cell_type": "code",
   "execution_count": 147,
   "metadata": {
    "collapsed": false
   },
   "outputs": [
    {
     "data": {
      "text/plain": [
       "<matplotlib.legend.Legend at 0x10c88cad0>"
      ]
     },
     "execution_count": 147,
     "metadata": {},
     "output_type": "execute_result"
    },
    {
     "data": {
      "image/png": "[encoded data removed]",
      "text/plain": [
       "<matplotlib.figure.Figure at 0x107995050>"
      ]
     },
     "metadata": {},
     "output_type": "display_data"
    }
   ],
   "source": [
    "# Plot the 3 stocks from 2004 to 2009 with a legend in the upper left corner\n",
    "three_stocks.ix['2004':'2009'].plot(figsize = (15,5))\n",
    "plt.legend(loc = \"upper left\")"
   ]
  },
  {
   "cell_type": "markdown",
   "metadata": {},
   "source": [
    "##### Look at how Pandas seamlessly handles the Time axis when you have a range of only 1 year below!"
   ]
  },
  {
   "cell_type": "code",
   "execution_count": 148,
   "metadata": {
    "collapsed": false
   },
   "outputs": [
    {
     "data": {
      "text/plain": [
       "<matplotlib.legend.Legend at 0x106226c10>"
      ]
     },
     "execution_count": 148,
     "metadata": {},
     "output_type": "execute_result"
    },
    {
     "data": {
      "image/png": "[encoded data removed]",
      "text/plain": [
       "<matplotlib.figure.Figure at 0x106226c90>"
      ]
     },
     "metadata": {},
     "output_type": "display_data"
    }
   ],
   "source": [
    "# Plot 3 stocks for 2009\n",
    "three_stocks.ix['2009'].plot(figsize = (15,5))\n",
    "plt.legend(loc = \"upper left\")"
   ]
  },
  {
   "cell_type": "markdown",
   "metadata": {},
   "source": [
    "Let's use our favorite `resample()` method to plot our Apple stock ***quarterly***:"
   ]
  },
  {
   "cell_type": "code",
   "execution_count": 149,
   "metadata": {
    "collapsed": false
   },
   "outputs": [
    {
     "data": {
      "text/plain": [
       "<matplotlib.axes._subplots.AxesSubplot at 0x108898050>"
      ]
     },
     "execution_count": 149,
     "metadata": {},
     "output_type": "execute_result"
    },
    {
     "data": {
      "image/png": "[encoded data removed]",
      "text/plain": [
       "<matplotlib.figure.Figure at 0x1088b0090>"
      ]
     },
     "metadata": {},
     "output_type": "display_data"
    }
   ],
   "source": [
    "# Resample Apple quarterly and plot from 2009 on\n",
    "apple_quarterly = stocks['AAPL'].resample('Q-DEC', fill_method = 'ffill')\n",
    "apple_quarterly.ix['2009':].plot(figsize=(10, 5))"
   ]
  },
  {
   "cell_type": "markdown",
   "metadata": {},
   "source": [
    "#### More Pandas Awesomeness - Moving Window Functions\n",
    "There are all sorts of functions/quantities with stocks (and other data) that one might want to calculate based solely on a window of only the most recent `n` datapoints.  Pandas has a whole bunch of them prepackaged for you!\n",
    "##### Available rolling or moving window functions:\n",
    "- rolling_count: Returns number of non-NA observations in each trailing window. \n",
    "- rolling_sum: Moving window sum. \n",
    "- rolling_mean Moving window mean. \n",
    "- rolling_median: Moving window median. \n",
    "- rolling_var, rolling_std: Moving window variance and standard deviation, respectively. Uses n - 1 denominator. \n",
    "- rolling_skew, rolling_kurt: Moving window skewness (3rd moment) and kurtosis (4th moment), respectively.\n",
    "- rolling_min, rolling_max: Moving window minimum and maximum. \n",
    "- rolling_quantile: Moving window score at percentile/ sample quantile. \n",
    "- rolling_corr, rolling_cov: Moving window correlation and covariance. \n",
    "- rolling_apply: Apply generic array function over a moving window. \n",
    "- ewma:  Exponentially-weighted moving average. \n",
    "- ewmvar, ewmstd: Exponentially-weighted moving variance and standard deviation. \n",
    "- ewmcorr, ewmcov: Exponentially-weighted moving correlation and covariance.\n",
    "\n",
    "Let's take a look at a few of these in action!"
   ]
  },
  {
   "cell_type": "code",
   "execution_count": 150,
   "metadata": {
    "collapsed": false,
    "scrolled": true
   },
   "outputs": [
    {
     "data": {
      "image/png": "[encoded data removed]",
      "text/plain": [
       "<matplotlib.figure.Figure at 0x10cd92650>"
      ]
     },
     "metadata": {},
     "output_type": "display_data"
    }
   ],
   "source": [
    "# Apple stock\n",
    "apple = stocks['AAPL']\n",
    "# Plot the stock over time\n",
    "apple.plot()\n",
    "# Overlay the rolling mean with a window of 250 datapoints\n",
    "pd.rolling_mean(apple, window = 250).plot(figsize = (15,5))\n",
    "plt.show()"
   ]
  },
  {
   "cell_type": "markdown",
   "metadata": {},
   "source": [
    "Notice how the rolling mean sort of smoothly follows the exact data, this is a nice property to have.  Note the `window` parameter which specifies the size of the moving window."
   ]
  },
  {
   "cell_type": "code",
   "execution_count": 151,
   "metadata": {
    "collapsed": false
   },
   "outputs": [
    {
     "data": {
      "image/png": "[encoded data removed]",
      "text/plain": [
       "<matplotlib.figure.Figure at 0x1088b9610>"
      ]
     },
     "metadata": {},
     "output_type": "display_data"
    }
   ],
   "source": [
    "# Plot rolling standard deviation\n",
    "pd.rolling_std(apple, window = 250).plot(figsize = (15,5))\n",
    "plt.show()"
   ]
  },
  {
   "cell_type": "markdown",
   "metadata": {},
   "source": [
    "##### Exponentialy Weighted Rolling Functions\n",
    "What if we want to weight more recent datapoints more strongly within our window?  We can do this easily with ***Exponentially Weighted Functions***!"
   ]
  },
  {
   "cell_type": "code",
   "execution_count": 152,
   "metadata": {
    "collapsed": false
   },
   "outputs": [
    {
     "data": {
      "text/plain": [
       "<matplotlib.axes._subplots.AxesSubplot at 0x10dc7b8d0>"
      ]
     },
     "execution_count": 152,
     "metadata": {},
     "output_type": "execute_result"
    },
    {
     "data": {
      "image/png": "[encoded data removed]",
      "text/plain": [
       "<matplotlib.figure.Figure at 0x10cd8dc50>"
      ]
     },
     "metadata": {},
     "output_type": "display_data"
    }
   ],
   "source": [
    "# Exponentially Weighted Moving Average\n",
    "apple.plot()\n",
    "pd.ewma(apple, span = 60).plot(figsize = (15,5))"
   ]
  },
  {
   "cell_type": "markdown",
   "metadata": {},
   "source": [
    "To specify the decay factor you specify a span.  Exponentially weighted functions adapt much faster than equally weighted moving averages"
   ]
  },
  {
   "cell_type": "markdown",
   "metadata": {},
   "source": [
    "##### Combining What We've Learned:\n",
    "Let's use some of our handy shift operators to calculate the percentage change each day for the S&P, then we'll see that there's an easier way to do it with the `pct_change()` function."
   ]
  },
  {
   "cell_type": "code",
   "execution_count": 154,
   "metadata": {
    "collapsed": false
   },
   "outputs": [
    {
     "name": "stdout",
     "output_type": "stream",
     "text": [
      "1990-02-01    328.79\n",
      "1990-02-02    330.92\n",
      "1990-02-05    331.85\n",
      "1990-02-06    329.66\n",
      "1990-02-07    333.75\n",
      "Name: SPX, dtype: float64\n",
      "1990-02-01       NaN\n",
      "1990-02-02    328.79\n",
      "1990-02-05    330.92\n",
      "1990-02-06    331.85\n",
      "1990-02-07    329.66\n",
      "Name: SPX, dtype: float64\n",
      "1990-02-01         NaN\n",
      "1990-02-02    0.006478\n",
      "1990-02-05    0.002810\n",
      "1990-02-06   -0.006599\n",
      "1990-02-07    0.012407\n",
      "Name: SPX, dtype: float64\n"
     ]
    }
   ],
   "source": [
    "#this is caculating the percent change, which is equal to time series/ time serie.shift(1) - 1\n",
    "s_and_p_index = stocks['SPX']\n",
    "print s_and_p_index.head()\n",
    "print s_and_p_index.shift(1).head()\n",
    "s_and_p_rets = s_and_p_index/s_and_p_index.shift(1) - 1\n",
    "print s_and_p_rets.head()"
   ]
  },
  {
   "cell_type": "code",
   "execution_count": 155,
   "metadata": {
    "collapsed": false,
    "scrolled": true
   },
   "outputs": [
    {
     "name": "stdout",
     "output_type": "stream",
     "text": [
      "                  AA      AAPL        GE       IBM       JNJ  MSFT       PEP  \\\n",
      "1990-02-01       NaN       NaN       NaN       NaN       NaN   NaN       NaN   \n",
      "1990-02-02  0.012048  0.017812  0.000000  0.005956  0.023419     0  0.008278   \n",
      "1990-02-05  0.005952  0.022500  0.000000  0.025459 -0.006865     0 -0.006568   \n",
      "1990-02-06 -0.011834 -0.007335  0.003484  0.013857 -0.004608     0  0.016529   \n",
      "1990-02-07  0.005988 -0.043103  0.010417  0.021071  0.013889     0  0.003252   \n",
      "\n",
      "                 SPX       XOM  \n",
      "1990-02-01       NaN       NaN  \n",
      "1990-02-02  0.006478  0.019608  \n",
      "1990-02-05  0.002810  0.001603  \n",
      "1990-02-06 -0.006599 -0.003200  \n",
      "1990-02-07  0.012407  0.016051  \n"
     ]
    }
   ],
   "source": [
    "# We can do the same thing for the other stocks just with the pct_change function\n",
    "returns = stocks.pct_change()\n",
    "print returns.head()"
   ]
  },
  {
   "cell_type": "markdown",
   "metadata": {},
   "source": [
    "Let's try out the ***Rolling Correlation*** function to see how the returns on some stocks correlate with the S&P over time:"
   ]
  },
  {
   "cell_type": "code",
   "execution_count": 156,
   "metadata": {
    "collapsed": false
   },
   "outputs": [
    {
     "data": {
      "text/plain": [
       "<matplotlib.axes._subplots.AxesSubplot at 0x10dec1510>"
      ]
     },
     "execution_count": 156,
     "metadata": {},
     "output_type": "execute_result"
    },
    {
     "data": {
      "image/png": "[encoded data removed]",
      "text/plain": [
       "<matplotlib.figure.Figure at 0x10d97e810>"
      ]
     },
     "metadata": {},
     "output_type": "display_data"
    }
   ],
   "source": [
    "# For Apple\n",
    "corr = pd.rolling_corr(returns.AAPL, s_and_p_rets, 125)\n",
    "corr.plot(figsize = (15,5))"
   ]
  },
  {
   "cell_type": "code",
   "execution_count": 157,
   "metadata": {
    "collapsed": false
   },
   "outputs": [
    {
     "data": {
      "text/plain": [
       "<matplotlib.axes._subplots.AxesSubplot at 0x10d8a0ed0>"
      ]
     },
     "execution_count": 157,
     "metadata": {},
     "output_type": "execute_result"
    },
    {
     "data": {
      "image/png": "[encoded data removed]",
      "text/plain": [
       "<matplotlib.figure.Figure at 0x10de71950>"
      ]
     },
     "metadata": {},
     "output_type": "display_data"
    }
   ],
   "source": [
    "# For 3 stocks, works just as well with a Dataframe\n",
    "returns = three_stocks.pct_change()\n",
    "corr = pd.rolling_corr(returns, s_and_p_rets, 125)\n",
    "corr.plot(figsize = (15,5))"
   ]
  },
  {
   "cell_type": "markdown",
   "metadata": {},
   "source": [
    "#### Bottom Line:\n",
    "Pandas is awesome.  A more detailed exploration of Financial and Economic Data Applications can be found in Python for Data Analysis by Wes McKinney"
   ]
  },
  {
   "cell_type": "markdown",
   "metadata": {},
   "source": [
    "## Example of Time Series Modeling - Building an AR Model"
   ]
  },
  {
   "cell_type": "code",
   "execution_count": 86,
   "metadata": {
    "collapsed": false
   },
   "outputs": [],
   "source": [
    "import pandas as pd\n",
    "import numpy as np\n",
    "import matplotlib.pyplot as plt\n",
    "%matplotlib inline\n",
    "from random import choice\n",
    "from sklearn.linear_model import LinearRegression\n",
    "from sklearn.metrics import mean_squared_error\n",
    "from sklearn.pipeline import make_pipeline\n",
    "from sklearn.preprocessing import PolynomialFeatures"
   ]
  },
  {
   "cell_type": "markdown",
   "metadata": {},
   "source": [
    "#### Going to use Ebola Deaths as an example"
   ]
  },
  {
   "cell_type": "code",
   "execution_count": 158,
   "metadata": {
    "collapsed": false
   },
   "outputs": [],
   "source": [
    "df = pd.DataFrame.from_csv('https://raw.githubusercontent.com/cmrivers/ebola/master/country_timeseries.csv',\\\n",
    "                           index_col=0)"
   ]
  },
  {
   "cell_type": "code",
   "execution_count": 68,
   "metadata": {
    "collapsed": false
   },
   "outputs": [
    {
     "data": {
      "text/plain": [
       "Index([u'Day', u'Cases_Guinea', u'Cases_Liberia', u'Cases_SierraLeone',\n",
       "       u'Cases_Nigeria', u'Cases_Senegal', u'Cases_UnitedStates',\n",
       "       u'Cases_Spain', u'Cases_Mali', u'Deaths_Guinea', u'Deaths_Liberia',\n",
       "       u'Deaths_SierraLeone', u'Deaths_Nigeria', u'Deaths_Senegal',\n",
       "       u'Deaths_UnitedStates', u'Deaths_Spain', u'Deaths_Mali'],\n",
       "      dtype='object')"
      ]
     },
     "execution_count": 68,
     "metadata": {},
     "output_type": "execute_result"
    }
   ],
   "source": [
    "df.columns"
   ]
  },
  {
   "cell_type": "code",
   "execution_count": 69,
   "metadata": {
    "collapsed": false
   },
   "outputs": [
    {
     "name": "stdout",
     "output_type": "stream",
     "text": [
      "<class 'pandas.core.frame.DataFrame'>\n",
      "DatetimeIndex: 122 entries, 2015-01-05 to 2014-03-22\n",
      "Data columns (total 17 columns):\n",
      "Day                    122 non-null int64\n",
      "Cases_Guinea           93 non-null float64\n",
      "Cases_Liberia          83 non-null float64\n",
      "Cases_SierraLeone      87 non-null float64\n",
      "Cases_Nigeria          38 non-null float64\n",
      "Cases_Senegal          25 non-null float64\n",
      "Cases_UnitedStates     18 non-null float64\n",
      "Cases_Spain            16 non-null float64\n",
      "Cases_Mali             12 non-null float64\n",
      "Deaths_Guinea          92 non-null float64\n",
      "Deaths_Liberia         81 non-null float64\n",
      "Deaths_SierraLeone     87 non-null float64\n",
      "Deaths_Nigeria         38 non-null float64\n",
      "Deaths_Senegal         22 non-null float64\n",
      "Deaths_UnitedStates    18 non-null float64\n",
      "Deaths_Spain           16 non-null float64\n",
      "Deaths_Mali            12 non-null float64\n",
      "dtypes: float64(16), int64(1)\n",
      "memory usage: 17.2 KB\n"
     ]
    }
   ],
   "source": [
    "df.info()"
   ]
  },
  {
   "cell_type": "markdown",
   "metadata": {},
   "source": [
    "##### We need to impute missing data values, in order to preserve as much of the time series as possible"
   ]
  },
  {
   "cell_type": "markdown",
   "metadata": {},
   "source": [
    "##### Look at \"both\" ends of this data"
   ]
  },
  {
   "cell_type": "code",
   "execution_count": 70,
   "metadata": {
    "collapsed": false
   },
   "outputs": [
    {
     "name": "stderr",
     "output_type": "stream",
     "text": [
      "/Users/pburkard88/anaconda/lib/python2.7/site-packages/ipykernel/__main__.py:3: FutureWarning: sort(columns=....) is deprecated, use sort_values(by=.....)\n",
      "  app.launch_new_instance()\n"
     ]
    },
    {
     "data": {
      "text/html": [
       "<div>\n",
       "<table border=\"1\" class=\"dataframe\">\n",
       "  <thead>\n",
       "    <tr style=\"text-align: right;\">\n",
       "      <th></th>\n",
       "      <th>Deaths_Guinea</th>\n",
       "      <th>Deaths_Liberia</th>\n",
       "      <th>Deaths_SierraLeone</th>\n",
       "    </tr>\n",
       "    <tr>\n",
       "      <th>Date</th>\n",
       "      <th></th>\n",
       "      <th></th>\n",
       "      <th></th>\n",
       "    </tr>\n",
       "  </thead>\n",
       "  <tbody>\n",
       "    <tr>\n",
       "      <th>2015-01-04</th>\n",
       "      <td>1781</td>\n",
       "      <td>NaN</td>\n",
       "      <td>2943</td>\n",
       "    </tr>\n",
       "  </tbody>\n",
       "</table>\n",
       "</div>"
      ],
      "text/plain": [
       "            Deaths_Guinea  Deaths_Liberia  Deaths_SierraLeone\n",
       "Date                                                         \n",
       "2015-01-04           1781             NaN                2943"
      ]
     },
     "execution_count": 70,
     "metadata": {},
     "output_type": "execute_result"
    }
   ],
   "source": [
    "deathColList = [\"Deaths_Guinea\", \"Deaths_Liberia\", \"Deaths_SierraLeone\"]\n",
    "\n",
    "df.sort(\"Day\", ascending=False)[deathColList][1:2]"
   ]
  },
  {
   "cell_type": "code",
   "execution_count": 71,
   "metadata": {
    "collapsed": false
   },
   "outputs": [
    {
     "name": "stderr",
     "output_type": "stream",
     "text": [
      "/Users/pburkard88/anaconda/lib/python2.7/site-packages/ipykernel/__main__.py:1: FutureWarning: sort(columns=....) is deprecated, use sort_values(by=.....)\n",
      "  if __name__ == '__main__':\n"
     ]
    },
    {
     "data": {
      "text/html": [
       "<div>\n",
       "<table border=\"1\" class=\"dataframe\">\n",
       "  <thead>\n",
       "    <tr style=\"text-align: right;\">\n",
       "      <th></th>\n",
       "      <th>Deaths_Guinea</th>\n",
       "      <th>Deaths_Liberia</th>\n",
       "      <th>Deaths_SierraLeone</th>\n",
       "    </tr>\n",
       "    <tr>\n",
       "      <th>Date</th>\n",
       "      <th></th>\n",
       "      <th></th>\n",
       "      <th></th>\n",
       "    </tr>\n",
       "  </thead>\n",
       "  <tbody>\n",
       "    <tr>\n",
       "      <th>2014-03-24</th>\n",
       "      <td>59</td>\n",
       "      <td>NaN</td>\n",
       "      <td>NaN</td>\n",
       "    </tr>\n",
       "  </tbody>\n",
       "</table>\n",
       "</div>"
      ],
      "text/plain": [
       "            Deaths_Guinea  Deaths_Liberia  Deaths_SierraLeone\n",
       "Date                                                         \n",
       "2014-03-24             59             NaN                 NaN"
      ]
     },
     "execution_count": 71,
     "metadata": {},
     "output_type": "execute_result"
    }
   ],
   "source": [
    "df.sort(\"Day\", ascending=True)[deathColList][1:2]"
   ]
  },
  {
   "cell_type": "markdown",
   "metadata": {},
   "source": [
    "##### Use both a backfill AND a forward fill in order to fill all the NAs. "
   ]
  },
  {
   "cell_type": "code",
   "execution_count": 72,
   "metadata": {
    "collapsed": false
   },
   "outputs": [],
   "source": [
    "df1 = df.bfill()\n",
    "df1 = df1.ffill()"
   ]
  },
  {
   "cell_type": "code",
   "execution_count": 73,
   "metadata": {
    "collapsed": false
   },
   "outputs": [
    {
     "name": "stdout",
     "output_type": "stream",
     "text": [
      "<class 'pandas.core.frame.DataFrame'>\n",
      "DatetimeIndex: 122 entries, 2015-01-05 to 2014-03-22\n",
      "Data columns (total 17 columns):\n",
      "Day                    122 non-null int64\n",
      "Cases_Guinea           122 non-null float64\n",
      "Cases_Liberia          122 non-null float64\n",
      "Cases_SierraLeone      122 non-null float64\n",
      "Cases_Nigeria          122 non-null float64\n",
      "Cases_Senegal          122 non-null float64\n",
      "Cases_UnitedStates     122 non-null float64\n",
      "Cases_Spain            122 non-null float64\n",
      "Cases_Mali             122 non-null float64\n",
      "Deaths_Guinea          122 non-null float64\n",
      "Deaths_Liberia         122 non-null float64\n",
      "Deaths_SierraLeone     122 non-null float64\n",
      "Deaths_Nigeria         122 non-null float64\n",
      "Deaths_Senegal         122 non-null float64\n",
      "Deaths_UnitedStates    122 non-null float64\n",
      "Deaths_Spain           122 non-null float64\n",
      "Deaths_Mali            122 non-null float64\n",
      "dtypes: float64(16), int64(1)\n",
      "memory usage: 17.2 KB\n"
     ]
    }
   ],
   "source": [
    "df1.info()"
   ]
  },
  {
   "cell_type": "code",
   "execution_count": 74,
   "metadata": {
    "collapsed": false
   },
   "outputs": [
    {
     "name": "stderr",
     "output_type": "stream",
     "text": [
      "/Users/pburkard88/anaconda/lib/python2.7/site-packages/ipykernel/__main__.py:1: FutureWarning: sort(columns=....) is deprecated, use sort_values(by=.....)\n",
      "  if __name__ == '__main__':\n"
     ]
    },
    {
     "data": {
      "text/html": [
       "<div>\n",
       "<table border=\"1\" class=\"dataframe\">\n",
       "  <thead>\n",
       "    <tr style=\"text-align: right;\">\n",
       "      <th></th>\n",
       "      <th>Deaths_Guinea</th>\n",
       "      <th>Deaths_Liberia</th>\n",
       "      <th>Deaths_SierraLeone</th>\n",
       "    </tr>\n",
       "    <tr>\n",
       "      <th>Date</th>\n",
       "      <th></th>\n",
       "      <th></th>\n",
       "      <th></th>\n",
       "    </tr>\n",
       "  </thead>\n",
       "  <tbody>\n",
       "    <tr>\n",
       "      <th>2015-01-04</th>\n",
       "      <td>1781</td>\n",
       "      <td>3496</td>\n",
       "      <td>2943</td>\n",
       "    </tr>\n",
       "  </tbody>\n",
       "</table>\n",
       "</div>"
      ],
      "text/plain": [
       "            Deaths_Guinea  Deaths_Liberia  Deaths_SierraLeone\n",
       "Date                                                         \n",
       "2015-01-04           1781            3496                2943"
      ]
     },
     "execution_count": 74,
     "metadata": {},
     "output_type": "execute_result"
    }
   ],
   "source": [
    "df1.sort(\"Day\", ascending=False)[deathColList][1:2]"
   ]
  },
  {
   "cell_type": "code",
   "execution_count": 75,
   "metadata": {
    "collapsed": false
   },
   "outputs": [
    {
     "name": "stderr",
     "output_type": "stream",
     "text": [
      "/Users/pburkard88/anaconda/lib/python2.7/site-packages/ipykernel/__main__.py:1: FutureWarning: sort(columns=....) is deprecated, use sort_values(by=.....)\n",
      "  if __name__ == '__main__':\n"
     ]
    },
    {
     "data": {
      "text/html": [
       "<div>\n",
       "<table border=\"1\" class=\"dataframe\">\n",
       "  <thead>\n",
       "    <tr style=\"text-align: right;\">\n",
       "      <th></th>\n",
       "      <th>Deaths_Guinea</th>\n",
       "      <th>Deaths_Liberia</th>\n",
       "      <th>Deaths_SierraLeone</th>\n",
       "    </tr>\n",
       "    <tr>\n",
       "      <th>Date</th>\n",
       "      <th></th>\n",
       "      <th></th>\n",
       "      <th></th>\n",
       "    </tr>\n",
       "  </thead>\n",
       "  <tbody>\n",
       "    <tr>\n",
       "      <th>2014-03-24</th>\n",
       "      <td>59</td>\n",
       "      <td>6</td>\n",
       "      <td>5</td>\n",
       "    </tr>\n",
       "  </tbody>\n",
       "</table>\n",
       "</div>"
      ],
      "text/plain": [
       "            Deaths_Guinea  Deaths_Liberia  Deaths_SierraLeone\n",
       "Date                                                         \n",
       "2014-03-24             59               6                   5"
      ]
     },
     "execution_count": 75,
     "metadata": {},
     "output_type": "execute_result"
    }
   ],
   "source": [
    "df1.sort(\"Day\", ascending=True)[deathColList][1:2]"
   ]
  },
  {
   "cell_type": "code",
   "execution_count": 76,
   "metadata": {
    "collapsed": false
   },
   "outputs": [],
   "source": [
    "deaths_df = df1[deathColList]"
   ]
  },
  {
   "cell_type": "code",
   "execution_count": 77,
   "metadata": {
    "collapsed": false
   },
   "outputs": [
    {
     "data": {
      "text/plain": [
       "<matplotlib.axes._subplots.AxesSubplot at 0x107265ad0>"
      ]
     },
     "execution_count": 77,
     "metadata": {},
     "output_type": "execute_result"
    },
    {
     "data": {
      "image/png": "[encoded data removed]",
      "text/plain": [
       "<matplotlib.figure.Figure at 0x107c78e10>"
      ]
     },
     "metadata": {},
     "output_type": "display_data"
    }
   ],
   "source": [
    "deaths_df.plot(figsize=(15,5))"
   ]
  },
  {
   "cell_type": "markdown",
   "metadata": {},
   "source": [
    "## Auto-regressive Modelling"
   ]
  },
  {
   "cell_type": "markdown",
   "metadata": {},
   "source": [
    "- time series x[t-5], x[t-4], x[t-3], x[t-2], x[t-1], x[t], y\n",
    "- y is the first future point, we are trying to predict y\n",
    "- build a model to predict the current values \n",
    "- x[t] =  theta0 + theta1 * x[t-1] + theta2 * x[t-2] + theta3 * x[t-3]\n",
    "- x[t-1] = theta0 + theta1 * x[t -2] + theta2 * [t-3] + theta3 * x[t-4]\n",
    "- etc etc...utilizing past data\n",
    "- Then use the parameters theta to predict y, using y = theta0 + theta1 * x[t] + theta2 * x[t-1] + theta3 * x[t-2]"
   ]
  },
  {
   "cell_type": "markdown",
   "metadata": {},
   "source": [
    "- The following cell illustrates basic time series modelling\n",
    "- It's a good start to get your head round what's going on, in terms of lagging columns\n",
    "- The data has only a single column\n",
    "- You lag this column by 1 time value to create a new column\n",
    "- Your Auto-regressive model size determines how many lagged columns you create\n",
    "- Then you build your model using the *rows* of all the lagged columns\n",
    "\n",
    "Now that we have the Ebola data, let's walk through an example of Autoregressive Modeling with it.\n",
    "\n",
    "First select out only the first column (Guinea) and let's work with that one only for now:"
   ]
  },
  {
   "cell_type": "code",
   "execution_count": 78,
   "metadata": {
    "collapsed": false
   },
   "outputs": [
    {
     "data": {
      "text/plain": [
       "Date\n",
       "2015-01-05    1786\n",
       "2015-01-04    1781\n",
       "Name: Deaths_Guinea, dtype: float64"
      ]
     },
     "execution_count": 78,
     "metadata": {},
     "output_type": "execute_result"
    }
   ],
   "source": [
    "#For example purposes just try and predict the deaths for the first country in the column list\n",
    "#So the data just has a single column of data\n",
    "# Select out the first column\n",
    "colList = deaths_df.columns\n",
    "cols = colList[0]\n",
    "\n",
    "#For convenience call this time series variable y\n",
    "y = deaths_df[cols]\n",
    "y.head(2)"
   ]
  },
  {
   "cell_type": "markdown",
   "metadata": {},
   "source": [
    "First create a parameter to specify the size of your autoregressive model (the number of recent datapoints you want to keep as features).  It should just be a number, call it **`ar_size`** and try 4 first."
   ]
  },
  {
   "cell_type": "code",
   "execution_count": 79,
   "metadata": {
    "collapsed": true
   },
   "outputs": [],
   "source": [
    "#ar_size represents the size of your Auto-regressive model\n",
    "#so if your model size is 4 then use x1 (at time t-4), x2 (at time t-3), x3 (at time t-2), x4 (at time t-1)\n",
    "#to predict x5 (the current value)\n",
    "ar_size = 4"
   ]
  },
  {
   "cell_type": "markdown",
   "metadata": {},
   "source": [
    "Now here's where the only new stuff comes in.  We need to create ***lagged columns*** to add to our dataframe.  \n",
    "\n",
    "##### Why?  \n",
    "Because these previous datapoints will now become our features.\n",
    "\n",
    "##### How Many?\n",
    "We should create **`ar_size`** of these columns for our **`ar_size`** features.\n",
    "\n",
    "Do this now by shifting your original column forward (1 for feature 1, 2 for feature 2, 3 for feature 3...ar_size for feature ar_size) with the `shift()` function.  Call your features (columns), **DG_lag1**, **DG_lag2**, etc.  Use `pd.concat()` to combine the columns into one new dataframe called **`lagged`**."
   ]
  },
  {
   "cell_type": "code",
   "execution_count": 82,
   "metadata": {
    "collapsed": false
   },
   "outputs": [
    {
     "data": {
      "text/html": [
       "<div>\n",
       "<table border=\"1\" class=\"dataframe\">\n",
       "  <thead>\n",
       "    <tr style=\"text-align: right;\">\n",
       "      <th></th>\n",
       "      <th>DG_lag1</th>\n",
       "      <th>DG_lag2</th>\n",
       "      <th>DG_lag3</th>\n",
       "      <th>DG_lag4</th>\n",
       "    </tr>\n",
       "    <tr>\n",
       "      <th>Date</th>\n",
       "      <th></th>\n",
       "      <th></th>\n",
       "      <th></th>\n",
       "      <th></th>\n",
       "    </tr>\n",
       "  </thead>\n",
       "  <tbody>\n",
       "    <tr>\n",
       "      <th>2015-01-05</th>\n",
       "      <td>NaN</td>\n",
       "      <td>NaN</td>\n",
       "      <td>NaN</td>\n",
       "      <td>NaN</td>\n",
       "    </tr>\n",
       "    <tr>\n",
       "      <th>2015-01-04</th>\n",
       "      <td>1786</td>\n",
       "      <td>NaN</td>\n",
       "      <td>NaN</td>\n",
       "      <td>NaN</td>\n",
       "    </tr>\n",
       "    <tr>\n",
       "      <th>2015-01-03</th>\n",
       "      <td>1781</td>\n",
       "      <td>1786</td>\n",
       "      <td>NaN</td>\n",
       "      <td>NaN</td>\n",
       "    </tr>\n",
       "    <tr>\n",
       "      <th>2015-01-02</th>\n",
       "      <td>1767</td>\n",
       "      <td>1781</td>\n",
       "      <td>1786</td>\n",
       "      <td>NaN</td>\n",
       "    </tr>\n",
       "    <tr>\n",
       "      <th>2014-12-31</th>\n",
       "      <td>1739</td>\n",
       "      <td>1767</td>\n",
       "      <td>1781</td>\n",
       "      <td>1786</td>\n",
       "    </tr>\n",
       "    <tr>\n",
       "      <th>2014-12-28</th>\n",
       "      <td>1739</td>\n",
       "      <td>1739</td>\n",
       "      <td>1767</td>\n",
       "      <td>1781</td>\n",
       "    </tr>\n",
       "    <tr>\n",
       "      <th>2014-12-27</th>\n",
       "      <td>1708</td>\n",
       "      <td>1739</td>\n",
       "      <td>1739</td>\n",
       "      <td>1767</td>\n",
       "    </tr>\n",
       "    <tr>\n",
       "      <th>2014-12-24</th>\n",
       "      <td>1697</td>\n",
       "      <td>1708</td>\n",
       "      <td>1739</td>\n",
       "      <td>1739</td>\n",
       "    </tr>\n",
       "    <tr>\n",
       "      <th>2014-12-21</th>\n",
       "      <td>1607</td>\n",
       "      <td>1697</td>\n",
       "      <td>1708</td>\n",
       "      <td>1739</td>\n",
       "    </tr>\n",
       "    <tr>\n",
       "      <th>2014-12-20</th>\n",
       "      <td>1607</td>\n",
       "      <td>1607</td>\n",
       "      <td>1697</td>\n",
       "      <td>1708</td>\n",
       "    </tr>\n",
       "  </tbody>\n",
       "</table>\n",
       "</div>"
      ],
      "text/plain": [
       "            DG_lag1  DG_lag2  DG_lag3  DG_lag4\n",
       "Date                                          \n",
       "2015-01-05      NaN      NaN      NaN      NaN\n",
       "2015-01-04     1786      NaN      NaN      NaN\n",
       "2015-01-03     1781     1786      NaN      NaN\n",
       "2015-01-02     1767     1781     1786      NaN\n",
       "2014-12-31     1739     1767     1781     1786\n",
       "2014-12-28     1739     1739     1767     1781\n",
       "2014-12-27     1708     1739     1739     1767\n",
       "2014-12-24     1697     1708     1739     1739\n",
       "2014-12-21     1607     1697     1708     1739\n",
       "2014-12-20     1607     1607     1697     1708"
      ]
     },
     "execution_count": 82,
     "metadata": {},
     "output_type": "execute_result"
    }
   ],
   "source": [
    "# Create the lagged columns and add them to the dataframe\n",
    "lagged = pd.concat([y.shift(i+1) for i in xrange(ar_size)], axis=1)\n",
    "# Rename the columns\n",
    "lagged.columns = ['DG_lag1', 'DG_lag2', 'DG_lag3', 'DG_lag4']\n",
    "# Take a look at lagged\n",
    "lagged.head(10)"
   ]
  },
  {
   "cell_type": "markdown",
   "metadata": {},
   "source": [
    "##### Generate Train/Test Sets\n",
    "For now let's use the first half of the data to train on and the 2nd half for test.  This is not ideal--you really want to use a fixed size moving window to train on as your time series progresses.  However, this is not a bad place to start!\n",
    "\n",
    "Generate a variable `X_train` that is the first half of the `lagged` dataframe (make sure to start with `ar_size`!).  Generate `y_train` similarly from the previously defined `y` `Series`.  Take a look at each.\n",
    "\n",
    "Do the analogous thing for `X_test` and `y_test`."
   ]
  },
  {
   "cell_type": "code",
   "execution_count": 84,
   "metadata": {
    "collapsed": false
   },
   "outputs": [
    {
     "name": "stdout",
     "output_type": "stream",
     "text": [
      "            DG_lag1  DG_lag2  DG_lag3  DG_lag4\n",
      "Date                                          \n",
      "2014-12-31     1739     1767     1781     1786\n",
      "2014-12-28     1739     1739     1767     1781\n",
      "2014-12-27     1708     1739     1739     1767\n",
      "2014-12-24     1697     1708     1739     1739\n",
      "2014-12-21     1607     1697     1708     1739\n",
      "Date\n",
      "2014-12-31    1739\n",
      "2014-12-28    1708\n",
      "2014-12-27    1697\n",
      "2014-12-24    1607\n",
      "2014-12-21    1607\n",
      "Name: Deaths_Guinea, dtype: float64\n"
     ]
    }
   ],
   "source": [
    "#The training set will consist of all the lagged columns and the first half of the rows\n",
    "train_end = len(y)/2\n",
    "# Generate X_train\n",
    "X_train = lagged.ix[ar_size:train_end]\n",
    "# Generate y_train\n",
    "y_train = y.ix[ar_size:train_end]\n",
    "print X_train.ix[0:5]\n",
    "print y_train.ix[0:5]"
   ]
  },
  {
   "cell_type": "markdown",
   "metadata": {},
   "source": [
    "#### Fit Your AR Model\n",
    "Now that we have appropriate Train/Test sets, we're at a very familiar point.  Simply build a `LinearRegression` model with the training set (with sklearn) and see how it performs against the test set!"
   ]
  },
  {
   "cell_type": "code",
   "execution_count": 87,
   "metadata": {
    "collapsed": false
   },
   "outputs": [
    {
     "name": "stdout",
     "output_type": "stream",
     "text": [
      "------------------------------------\n",
      "Predicted        Actual       Error\n",
      "     391.83      396.00        4.17\n",
      "     382.28      394.00       11.72\n",
      "     374.53      380.00        5.47\n",
      "     364.55      377.00       12.45\n",
      "     356.11      373.00       16.89\n",
      "     354.17      367.00       12.83\n",
      "     348.03      363.00       14.97\n",
      "     343.33      358.00       14.67\n",
      "     339.08      346.00        6.92\n",
      "     329.73      339.00        9.27\n",
      "     320.68      319.00        1.68\n",
      "     306.85      314.00        7.15\n",
      "     295.13      310.00       14.87\n",
      "     292.72      310.00       17.28\n",
      "     289.95      304.00       14.05\n",
      "     286.46      309.00       22.54\n",
      "     286.53      307.00       20.47\n",
      "     288.32      305.00       16.68\n",
      "     285.04      303.00       17.96\n",
      "     283.68      270.00       13.68\n",
      "     263.08      270.00        6.92\n",
      "     248.92      267.00       18.08\n",
      "     251.50      267.00       15.50\n",
      "     247.35      264.00       16.65\n",
      "     245.96      264.00       18.04\n",
      "     244.40      226.00       18.40\n",
      "     221.97      215.00        6.97\n",
      "     198.67      215.00       16.33\n",
      "     199.16      208.00        8.84\n",
      "     193.18      193.00        0.18\n",
      "     180.19      186.00        5.81\n",
      "     170.46      174.00        3.54\n",
      "     161.69      171.00        9.31\n",
      "     154.37      157.00        2.63\n",
      "     145.70      158.00       12.30\n",
      "     139.63      157.00       17.37\n",
      "     141.13      155.00       13.87\n",
      "     138.15      149.00       10.85\n",
      "     133.90      143.00        9.10\n",
      "     127.89      141.00       13.11\n",
      "     124.75      141.00       16.25\n",
      "     124.19      136.00       11.81\n",
      "     120.94      136.00       15.06\n",
      "     118.61      136.00       17.39\n",
      "     119.30      129.00        9.70\n",
      "     114.66      122.00        7.34\n",
      "     107.43      108.00        0.57\n",
      "      96.95      108.00       11.05\n",
      "      91.26      106.00       14.74\n",
      "      91.38      101.00        9.62\n",
      "      86.30       95.00        8.70\n",
      "      80.81       86.00        5.19\n",
      "      73.32       83.00        9.68\n",
      "      68.02       80.00       11.98\n",
      "      65.65       70.00        4.35\n",
      "      57.97       70.00       12.03\n",
      "      53.81       66.00       12.19\n",
      "      52.52       62.00        9.48\n",
      "      47.52       60.00       12.48\n",
      "      45.14       59.00       13.86\n",
      "      43.88       29.00       14.88\n",
      "Mean Squared Error is 1.62117333328\n"
     ]
    }
   ],
   "source": [
    "#Now fit your model    \n",
    "clf = LinearRegression()\n",
    "clf.fit(X_train, y_train)\n",
    "    \n",
    "predictions = []\n",
    "#Now use the model to predict the second half of the data\n",
    "# Use mean squared error as your metric\n",
    "mse = 0.0\n",
    "count = 0.0\n",
    "print \"------------------------------------\"\n",
    "print \"Predicted        Actual       Error\"\n",
    "for t in xrange(train_end, len(y)):\n",
    "    y_hat = clf.predict(lagged.ix[t])\n",
    "    print \"{:11.2f} {:11.2f} {:11.2f}\".format(y_hat[0], y.ix[t], np.abs(y_hat[0]-y.ix[t]))\n",
    "    mse += (y_hat[0]-y.ix[t]) * (y_hat[0]-y.ix[t])\n",
    "    count += 1\n",
    "mse = np.sqrt(mse)/count\n",
    "print \"Mean Squared Error is {0:}\".format(mse)"
   ]
  },
  {
   "cell_type": "markdown",
   "metadata": {},
   "source": [
    "#### A Better Approach - Use a moving window\n",
    "See if you can set up your modeling so it retrains with every new observation on the previous n observations (rather than the static first half last half split.  Choose your window size, and go for it!"
   ]
  },
  {
   "cell_type": "code",
   "execution_count": 88,
   "metadata": {
    "collapsed": false
   },
   "outputs": [
    {
     "name": "stdout",
     "output_type": "stream",
     "text": [
      "------------------------------------\n",
      "Predicted        Actual       Error\n",
      "     396.22      396.00        0.22\n",
      "     386.15      394.00        7.85\n",
      "     376.97      380.00        3.03\n",
      "     367.34      377.00        9.66\n",
      "     358.21      373.00       14.79\n",
      "     357.52      367.00        9.48\n",
      "     353.70      363.00        9.30\n",
      "     348.31      358.00        9.69\n",
      "     345.95      346.00        0.05\n",
      "     334.36      339.00        4.64\n",
      "     326.52      319.00        7.52\n",
      "     309.35      314.00        4.65\n",
      "     300.05      310.00        9.95\n",
      "     295.34      310.00       14.66\n",
      "     292.12      304.00       11.88\n",
      "     286.90      309.00       22.10\n",
      "     291.67      307.00       15.33\n",
      "     291.43      305.00       13.57\n",
      "     290.39      303.00       12.61\n",
      "     290.46      270.00       20.46\n",
      "     265.05      270.00        4.95\n",
      "     264.43      267.00        2.57\n",
      "     257.19      267.00        9.81\n",
      "     256.39      264.00        7.61\n",
      "     254.33      264.00        9.67\n",
      "     255.22      226.00       29.22\n",
      "     222.08      215.00        7.08\n",
      "     214.75      215.00        0.25\n",
      "     212.28      208.00        4.28\n",
      "     200.46      193.00        7.46\n",
      "     186.57      186.00        0.57\n",
      "     180.99      174.00        6.99\n",
      "     169.89      171.00        1.11\n",
      "     164.84      157.00        7.84\n",
      "     152.75      158.00        5.25\n",
      "     152.22      157.00        4.78\n",
      "     152.56      155.00        2.44\n",
      "     149.05      149.00        0.05\n",
      "     144.06      143.00        1.06\n",
      "     139.10      141.00        1.90\n",
      "     137.95      141.00        3.05\n",
      "     137.78      136.00        1.78\n",
      "     133.31      136.00        2.69\n",
      "     133.71      136.00        2.29\n",
      "     132.44      129.00        3.44\n",
      "     125.18      122.00        3.18\n",
      "     118.48      108.00       10.48\n",
      "     105.50      108.00        2.50\n",
      "     104.48      106.00        1.52\n",
      "     105.14      101.00        4.14\n",
      "      99.71       95.00        4.71\n",
      "      92.90       86.00        6.90\n",
      "      84.36       83.00        1.36\n",
      "      82.77       80.00        2.77\n",
      "      79.98       70.00        9.98\n",
      "      67.61       70.00        2.39\n",
      "      66.37       66.00        0.37\n",
      "      62.28       62.00        0.28\n",
      "      57.24       60.00        2.76\n",
      "      55.44       59.00        3.56\n",
      "      54.13       29.00       25.13\n",
      "Mean Squared Error is 1.17549918183\n"
     ]
    }
   ],
   "source": [
    "y = deaths_df[cols]\n",
    "train_end = len(y)/2\n",
    "ar_size = 4\n",
    "lagged = pd.concat([y.shift(i+1) for i in xrange(ar_size)], axis=1)\n",
    "lagged.columns = [range(ar_size)]\n",
    "clfB = LinearRegression()\n",
    "\n",
    "predictionsB = []\n",
    "#Now use the model to predict the second half of the data\n",
    "mseB = 0.0\n",
    "countB = 0.0\n",
    "print \"------------------------------------\"\n",
    "print \"Predicted        Actual       Error\"\n",
    "for t in xrange(train_end, len(y)):\n",
    "    X_trainB = lagged.ix[t - train_end + ar_size: t - 1]\n",
    "    y_trainB = y.ix[t - train_end + ar_size: t - 1]\n",
    "    clf.fit(X_trainB, y_trainB)\n",
    "    y_hatB = clf.predict(lagged.ix[t])\n",
    "    print \"{:11.2f} {:11.2f} {:11.2f}\".format(y_hatB[0], y.ix[t], np.abs(y_hatB[0]-y.ix[t]))\n",
    "    mseB += (y_hatB[0]-y.ix[t]) * (y_hatB[0]-y.ix[t])\n",
    "    countB += 1\n",
    "mseB = np.sqrt(mseB)/countB\n",
    "print \"Mean Squared Error is {0:}\".format(mseB)"
   ]
  },
  {
   "cell_type": "markdown",
   "metadata": {},
   "source": [
    "#### Takeaway:\n",
    "AR Modeling is nothing new, we've just used some handy Pandas manipulations to extract new features from old datapoints to build our familiar Linear Regression model."
   ]
  }
 ],
 "metadata": {
  "kernelspec": {
   "display_name": "Python 2",
   "language": "python",
   "name": "python2"
  },
  "language_info": {
   "codemirror_mode": {
    "name": "ipython",
    "version": 2
   },
   "file_extension": ".py",
   "mimetype": "text/x-python",
   "name": "python",
   "nbconvert_exporter": "python",
   "pygments_lexer": "ipython2",
   "version": "2.7.10"
  }
 },
 "nbformat": 4,
 "nbformat_minor": 0
}
